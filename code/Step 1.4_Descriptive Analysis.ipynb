{
 "cells": [
  {
   "cell_type": "code",
   "execution_count": 1,
   "metadata": {},
   "outputs": [],
   "source": [
    "import nltk\n",
    "import datetime\n",
    "\n",
    "import numpy as np\n",
    "import pandas as pd\n",
    "\n",
    "import matplotlib.pyplot as plt\n",
    "import PIL.Image as image\n",
    "\n",
    "from numpy import mean,median,ptp,var,std\n",
    "from scipy.stats import mode\n",
    "\n",
    "from datetime import datetime"
   ]
  },
  {
   "cell_type": "code",
   "execution_count": 2,
   "metadata": {},
   "outputs": [],
   "source": [
    "path = ''\n",
    "dataset = pd.read_csv('user_info_2292.csv', header=0, index_col=0)"
   ]
  },
  {
   "cell_type": "code",
   "execution_count": 3,
   "metadata": {},
   "outputs": [
    {
     "data": {
      "text/plain": [
       "datetime.datetime(2019, 12, 19, 19, 11, 29, 141325)"
      ]
     },
     "execution_count": 3,
     "metadata": {},
     "output_type": "execute_result"
    }
   ],
   "source": [
    "datetime.now()"
   ]
  },
  {
   "cell_type": "code",
   "execution_count": 4,
   "metadata": {},
   "outputs": [],
   "source": [
    "dataset['time']=dataset['created_at'].apply(lambda x:datetime.strptime(x, '%Y-%m-%d %H:%M:%S'))\n",
    "dataset['delta']=datetime.now()-dataset['time']"
   ]
  },
  {
   "cell_type": "code",
   "execution_count": 5,
   "metadata": {},
   "outputs": [
    {
     "data": {
      "text/plain": [
       "1       594 days 01:06:15.192503\n",
       "2       469 days 01:02:55.192503\n",
       "3       133 days 15:31:46.192503\n",
       "4       824 days 07:24:54.192503\n",
       "8      4638 days 20:01:58.192503\n",
       "                  ...           \n",
       "3959    170 days 07:30:31.192503\n",
       "3960   3900 days 00:02:08.192503\n",
       "3962    713 days 18:12:56.192503\n",
       "3964   2795 days 05:55:43.192503\n",
       "3965   3953 days 16:39:05.192503\n",
       "Name: delta, Length: 2292, dtype: timedelta64[ns]"
      ]
     },
     "execution_count": 5,
     "metadata": {},
     "output_type": "execute_result"
    }
   ],
   "source": [
    "dataset['delta']"
   ]
  },
  {
   "cell_type": "code",
   "execution_count": 6,
   "metadata": {},
   "outputs": [],
   "source": [
    "dataset['float']=dataset['delta'].apply(lambda x:x/np.timedelta64(1,'D'))"
   ]
  },
  {
   "cell_type": "code",
   "execution_count": 7,
   "metadata": {},
   "outputs": [
    {
     "data": {
      "text/html": [
       "<div>\n",
       "<style scoped>\n",
       "    .dataframe tbody tr th:only-of-type {\n",
       "        vertical-align: middle;\n",
       "    }\n",
       "\n",
       "    .dataframe tbody tr th {\n",
       "        vertical-align: top;\n",
       "    }\n",
       "\n",
       "    .dataframe thead th {\n",
       "        text-align: right;\n",
       "    }\n",
       "</style>\n",
       "<table border=\"1\" class=\"dataframe\">\n",
       "  <thead>\n",
       "    <tr style=\"text-align: right;\">\n",
       "      <th></th>\n",
       "      <th>id</th>\n",
       "      <th>name</th>\n",
       "      <th>location</th>\n",
       "      <th>followers_count</th>\n",
       "      <th>following_count</th>\n",
       "      <th>favourites_count</th>\n",
       "      <th>statuses_count</th>\n",
       "      <th>listed_count</th>\n",
       "      <th>created_at</th>\n",
       "      <th>time</th>\n",
       "      <th>delta</th>\n",
       "      <th>float</th>\n",
       "    </tr>\n",
       "  </thead>\n",
       "  <tbody>\n",
       "    <tr>\n",
       "      <td>1</td>\n",
       "      <td>992465186362724352</td>\n",
       "      <td>warrior_mhs</td>\n",
       "      <td>Frisco, TX</td>\n",
       "      <td>154</td>\n",
       "      <td>367</td>\n",
       "      <td>2304</td>\n",
       "      <td>224</td>\n",
       "      <td>0</td>\n",
       "      <td>2018-05-04 18:05:14</td>\n",
       "      <td>2018-05-04 18:05:14</td>\n",
       "      <td>594 days 01:06:15.192503</td>\n",
       "      <td>594.046009</td>\n",
       "    </tr>\n",
       "    <tr>\n",
       "      <td>2</td>\n",
       "      <td>1037764508025012225</td>\n",
       "      <td>BchsAll</td>\n",
       "      <td>Florida, USA</td>\n",
       "      <td>94</td>\n",
       "      <td>325</td>\n",
       "      <td>72</td>\n",
       "      <td>365</td>\n",
       "      <td>0</td>\n",
       "      <td>2018-09-06 18:08:34</td>\n",
       "      <td>2018-09-06 18:08:34</td>\n",
       "      <td>469 days 01:02:55.192503</td>\n",
       "      <td>469.043694</td>\n",
       "    </tr>\n",
       "    <tr>\n",
       "      <td>3</td>\n",
       "      <td>1159308178875670528</td>\n",
       "      <td>HEADPOTUS</td>\n",
       "      <td>Manhattan, NY</td>\n",
       "      <td>95</td>\n",
       "      <td>4264</td>\n",
       "      <td>2401</td>\n",
       "      <td>3923</td>\n",
       "      <td>0</td>\n",
       "      <td>2019-08-08 03:39:43</td>\n",
       "      <td>2019-08-08 03:39:43</td>\n",
       "      <td>133 days 15:31:46.192503</td>\n",
       "      <td>133.647062</td>\n",
       "    </tr>\n",
       "    <tr>\n",
       "      <td>4</td>\n",
       "      <td>909020687934816256</td>\n",
       "      <td>lacenlyn</td>\n",
       "      <td>United States</td>\n",
       "      <td>1503</td>\n",
       "      <td>3838</td>\n",
       "      <td>27006</td>\n",
       "      <td>18169</td>\n",
       "      <td>3</td>\n",
       "      <td>2017-09-16 11:46:35</td>\n",
       "      <td>2017-09-16 11:46:35</td>\n",
       "      <td>824 days 07:24:54.192503</td>\n",
       "      <td>824.308961</td>\n",
       "    </tr>\n",
       "    <tr>\n",
       "      <td>8</td>\n",
       "      <td>3742901</td>\n",
       "      <td>tropology</td>\n",
       "      <td>NaN</td>\n",
       "      <td>1692</td>\n",
       "      <td>4500</td>\n",
       "      <td>11764</td>\n",
       "      <td>9045</td>\n",
       "      <td>123</td>\n",
       "      <td>2007-04-07 23:09:31</td>\n",
       "      <td>2007-04-07 23:09:31</td>\n",
       "      <td>4638 days 20:01:58.192503</td>\n",
       "      <td>4638.834701</td>\n",
       "    </tr>\n",
       "    <tr>\n",
       "      <td>...</td>\n",
       "      <td>...</td>\n",
       "      <td>...</td>\n",
       "      <td>...</td>\n",
       "      <td>...</td>\n",
       "      <td>...</td>\n",
       "      <td>...</td>\n",
       "      <td>...</td>\n",
       "      <td>...</td>\n",
       "      <td>...</td>\n",
       "      <td>...</td>\n",
       "      <td>...</td>\n",
       "      <td>...</td>\n",
       "    </tr>\n",
       "    <tr>\n",
       "      <td>3959</td>\n",
       "      <td>1146020936837214208</td>\n",
       "      <td>helenpieper64</td>\n",
       "      <td>Sudbury, East</td>\n",
       "      <td>571</td>\n",
       "      <td>3099</td>\n",
       "      <td>75</td>\n",
       "      <td>77</td>\n",
       "      <td>0</td>\n",
       "      <td>2019-07-02 11:40:58</td>\n",
       "      <td>2019-07-02 11:40:58</td>\n",
       "      <td>170 days 07:30:31.192503</td>\n",
       "      <td>170.312861</td>\n",
       "    </tr>\n",
       "    <tr>\n",
       "      <td>3960</td>\n",
       "      <td>31487148</td>\n",
       "      <td>gpacanins</td>\n",
       "      <td>Miami, FL</td>\n",
       "      <td>1135</td>\n",
       "      <td>1278</td>\n",
       "      <td>706</td>\n",
       "      <td>3597</td>\n",
       "      <td>15</td>\n",
       "      <td>2009-04-15 19:09:21</td>\n",
       "      <td>2009-04-15 19:09:21</td>\n",
       "      <td>3900 days 00:02:08.192503</td>\n",
       "      <td>3900.001484</td>\n",
       "    </tr>\n",
       "    <tr>\n",
       "      <td>3962</td>\n",
       "      <td>949082659858284546</td>\n",
       "      <td>zackjunior18</td>\n",
       "      <td>Johannesburg, South Africa</td>\n",
       "      <td>8</td>\n",
       "      <td>213</td>\n",
       "      <td>149</td>\n",
       "      <td>80</td>\n",
       "      <td>0</td>\n",
       "      <td>2018-01-05 00:58:33</td>\n",
       "      <td>2018-01-05 00:58:33</td>\n",
       "      <td>713 days 18:12:56.192503</td>\n",
       "      <td>713.758984</td>\n",
       "    </tr>\n",
       "    <tr>\n",
       "      <td>3964</td>\n",
       "      <td>562095735</td>\n",
       "      <td>Ahmed444Saeed</td>\n",
       "      <td>PESHAWAR,KPK</td>\n",
       "      <td>251</td>\n",
       "      <td>2291</td>\n",
       "      <td>8093</td>\n",
       "      <td>1748</td>\n",
       "      <td>0</td>\n",
       "      <td>2012-04-24 13:15:46</td>\n",
       "      <td>2012-04-24 13:15:46</td>\n",
       "      <td>2795 days 05:55:43.192503</td>\n",
       "      <td>2795.247028</td>\n",
       "    </tr>\n",
       "    <tr>\n",
       "      <td>3965</td>\n",
       "      <td>21457289</td>\n",
       "      <td>MSFTResearch</td>\n",
       "      <td>NaN</td>\n",
       "      <td>418876</td>\n",
       "      <td>1744</td>\n",
       "      <td>3223</td>\n",
       "      <td>7252</td>\n",
       "      <td>6611</td>\n",
       "      <td>2009-02-21 02:32:24</td>\n",
       "      <td>2009-02-21 02:32:24</td>\n",
       "      <td>3953 days 16:39:05.192503</td>\n",
       "      <td>3953.693810</td>\n",
       "    </tr>\n",
       "  </tbody>\n",
       "</table>\n",
       "<p>2292 rows × 12 columns</p>\n",
       "</div>"
      ],
      "text/plain": [
       "                       id           name                    location  \\\n",
       "1      992465186362724352    warrior_mhs                  Frisco, TX   \n",
       "2     1037764508025012225        BchsAll                Florida, USA   \n",
       "3     1159308178875670528      HEADPOTUS               Manhattan, NY   \n",
       "4      909020687934816256       lacenlyn               United States   \n",
       "8                 3742901      tropology                         NaN   \n",
       "...                   ...            ...                         ...   \n",
       "3959  1146020936837214208  helenpieper64               Sudbury, East   \n",
       "3960             31487148      gpacanins                   Miami, FL   \n",
       "3962   949082659858284546   zackjunior18  Johannesburg, South Africa   \n",
       "3964            562095735  Ahmed444Saeed                PESHAWAR,KPK   \n",
       "3965             21457289   MSFTResearch                         NaN   \n",
       "\n",
       "      followers_count  following_count  favourites_count  statuses_count  \\\n",
       "1                 154              367              2304             224   \n",
       "2                  94              325                72             365   \n",
       "3                  95             4264              2401            3923   \n",
       "4                1503             3838             27006           18169   \n",
       "8                1692             4500             11764            9045   \n",
       "...               ...              ...               ...             ...   \n",
       "3959              571             3099                75              77   \n",
       "3960             1135             1278               706            3597   \n",
       "3962                8              213               149              80   \n",
       "3964              251             2291              8093            1748   \n",
       "3965           418876             1744              3223            7252   \n",
       "\n",
       "      listed_count           created_at                time  \\\n",
       "1                0  2018-05-04 18:05:14 2018-05-04 18:05:14   \n",
       "2                0  2018-09-06 18:08:34 2018-09-06 18:08:34   \n",
       "3                0  2019-08-08 03:39:43 2019-08-08 03:39:43   \n",
       "4                3  2017-09-16 11:46:35 2017-09-16 11:46:35   \n",
       "8              123  2007-04-07 23:09:31 2007-04-07 23:09:31   \n",
       "...            ...                  ...                 ...   \n",
       "3959             0  2019-07-02 11:40:58 2019-07-02 11:40:58   \n",
       "3960            15  2009-04-15 19:09:21 2009-04-15 19:09:21   \n",
       "3962             0  2018-01-05 00:58:33 2018-01-05 00:58:33   \n",
       "3964             0  2012-04-24 13:15:46 2012-04-24 13:15:46   \n",
       "3965          6611  2009-02-21 02:32:24 2009-02-21 02:32:24   \n",
       "\n",
       "                         delta        float  \n",
       "1     594 days 01:06:15.192503   594.046009  \n",
       "2     469 days 01:02:55.192503   469.043694  \n",
       "3     133 days 15:31:46.192503   133.647062  \n",
       "4     824 days 07:24:54.192503   824.308961  \n",
       "8    4638 days 20:01:58.192503  4638.834701  \n",
       "...                        ...          ...  \n",
       "3959  170 days 07:30:31.192503   170.312861  \n",
       "3960 3900 days 00:02:08.192503  3900.001484  \n",
       "3962  713 days 18:12:56.192503   713.758984  \n",
       "3964 2795 days 05:55:43.192503  2795.247028  \n",
       "3965 3953 days 16:39:05.192503  3953.693810  \n",
       "\n",
       "[2292 rows x 12 columns]"
      ]
     },
     "execution_count": 7,
     "metadata": {},
     "output_type": "execute_result"
    }
   ],
   "source": [
    "dataset"
   ]
  },
  {
   "cell_type": "code",
   "execution_count": 8,
   "metadata": {},
   "outputs": [],
   "source": [
    "def descriptive_analysis(key):\n",
    "    plt.boxplot(list(dataset[key]),labels=[key])\n",
    "    plt.show()\n",
    "    print('mean:',round(dataset[key].mean(),2))\n",
    "    print('median:',round(dataset[key].median(),2))"
   ]
  },
  {
   "cell_type": "code",
   "execution_count": 9,
   "metadata": {},
   "outputs": [
    {
     "data": {
      "image/png": "[encoded data removed]",
      "text/plain": [
       "<matplotlib.figure.Figure at 0x10b767e10>"
      ]
     },
     "metadata": {},
     "output_type": "display_data"
    },
    {
     "name": "stdout",
     "output_type": "stream",
     "text": [
      "mean: 4178.38\n",
      "median: 106.0\n"
     ]
    }
   ],
   "source": [
    "descriptive_analysis('followers_count')"
   ]
  },
  {
   "cell_type": "code",
   "execution_count": 10,
   "metadata": {},
   "outputs": [
    {
     "data": {
      "text/plain": [
       "count    2.292000e+03\n",
       "mean     4.178375e+03\n",
       "std      8.626001e+04\n",
       "min      0.000000e+00\n",
       "25%      3.300000e+01\n",
       "50%      1.060000e+02\n",
       "75%      3.450000e+02\n",
       "max      3.121818e+06\n",
       "Name: followers_count, dtype: float64"
      ]
     },
     "execution_count": 10,
     "metadata": {},
     "output_type": "execute_result"
    }
   ],
   "source": [
    "dataset['followers_count'].describe()"
   ]
  },
  {
   "cell_type": "code",
   "execution_count": 11,
   "metadata": {},
   "outputs": [
    {
     "data": {
      "image/png": "[encoded data removed]",
      "text/plain": [
       "<matplotlib.figure.Figure at 0x10b767d30>"
      ]
     },
     "metadata": {},
     "output_type": "display_data"
    },
    {
     "name": "stdout",
     "output_type": "stream",
     "text": [
      "mean: 1248.38\n",
      "median: 607.0\n"
     ]
    }
   ],
   "source": [
    "descriptive_analysis('following_count')"
   ]
  },
  {
   "cell_type": "code",
   "execution_count": 12,
   "metadata": {},
   "outputs": [
    {
     "data": {
      "text/plain": [
       "count     2292.000000\n",
       "mean      1248.384817\n",
       "std       2389.719525\n",
       "min          9.000000\n",
       "25%        239.750000\n",
       "50%        607.000000\n",
       "75%       1520.250000\n",
       "max      54093.000000\n",
       "Name: following_count, dtype: float64"
      ]
     },
     "execution_count": 12,
     "metadata": {},
     "output_type": "execute_result"
    }
   ],
   "source": [
    "dataset['following_count'].describe()"
   ]
  },
  {
   "cell_type": "code",
   "execution_count": 13,
   "metadata": {},
   "outputs": [
    {
     "data": {
      "image/png": "[encoded data removed]",
      "text/plain": [
       "<matplotlib.figure.Figure at 0x1a1aba9f98>"
      ]
     },
     "metadata": {},
     "output_type": "display_data"
    },
    {
     "name": "stdout",
     "output_type": "stream",
     "text": [
      "mean: 4272.19\n",
      "median: 668.5\n"
     ]
    }
   ],
   "source": [
    "descriptive_analysis('favourites_count')"
   ]
  },
  {
   "cell_type": "code",
   "execution_count": 14,
   "metadata": {},
   "outputs": [
    {
     "data": {
      "text/plain": [
       "count      2292.000000\n",
       "mean       4272.193717\n",
       "std       12262.000488\n",
       "min           0.000000\n",
       "25%         150.000000\n",
       "50%         668.500000\n",
       "75%        3009.000000\n",
       "max      181674.000000\n",
       "Name: favourites_count, dtype: float64"
      ]
     },
     "execution_count": 14,
     "metadata": {},
     "output_type": "execute_result"
    }
   ],
   "source": [
    "dataset['favourites_count'].describe()"
   ]
  },
  {
   "cell_type": "code",
   "execution_count": 15,
   "metadata": {},
   "outputs": [
    {
     "data": {
      "image/png": "[encoded data removed]",
      "text/plain": [
       "<matplotlib.figure.Figure at 0x1a1add3ba8>"
      ]
     },
     "metadata": {},
     "output_type": "display_data"
    },
    {
     "name": "stdout",
     "output_type": "stream",
     "text": [
      "mean: 2812.34\n",
      "median: 321.5\n"
     ]
    }
   ],
   "source": [
    "descriptive_analysis('statuses_count')"
   ]
  },
  {
   "cell_type": "code",
   "execution_count": 16,
   "metadata": {},
   "outputs": [
    {
     "data": {
      "text/plain": [
       "count      2292.000000\n",
       "mean       2812.337696\n",
       "std       12497.915579\n",
       "min          30.000000\n",
       "25%          94.000000\n",
       "50%         321.500000\n",
       "75%        1551.750000\n",
       "max      381864.000000\n",
       "Name: statuses_count, dtype: float64"
      ]
     },
     "execution_count": 16,
     "metadata": {},
     "output_type": "execute_result"
    }
   ],
   "source": [
    "dataset['statuses_count'].describe()"
   ]
  },
  {
   "cell_type": "code",
   "execution_count": 17,
   "metadata": {},
   "outputs": [
    {
     "data": {
      "text/plain": [
       "count    2.292000e+03\n",
       "mean     4.178375e+03\n",
       "std      8.626001e+04\n",
       "min      0.000000e+00\n",
       "25%      3.300000e+01\n",
       "50%      1.060000e+02\n",
       "75%      3.450000e+02\n",
       "max      3.121818e+06\n",
       "Name: followers_count, dtype: float64"
      ]
     },
     "execution_count": 17,
     "metadata": {},
     "output_type": "execute_result"
    }
   ],
   "source": [
    "dataset['followers_count'].describe()"
   ]
  },
  {
   "cell_type": "code",
   "execution_count": 18,
   "metadata": {},
   "outputs": [
    {
     "data": {
      "text/plain": [
       "count    2292.000000\n",
       "mean     1587.056520\n",
       "std      1308.196263\n",
       "min        33.458104\n",
       "25%       340.730566\n",
       "50%      1302.926304\n",
       "75%      2726.367690\n",
       "max      4883.819470\n",
       "Name: float, dtype: float64"
      ]
     },
     "execution_count": 18,
     "metadata": {},
     "output_type": "execute_result"
    }
   ],
   "source": [
    "dataset['float'].describe()"
   ]
  },
  {
   "cell_type": "code",
   "execution_count": 19,
   "metadata": {},
   "outputs": [
    {
     "data": {
      "image/png": "[encoded data removed]",
      "text/plain": [
       "<matplotlib.figure.Figure at 0x1a1ae36cc0>"
      ]
     },
     "metadata": {},
     "output_type": "display_data"
    },
    {
     "name": "stdout",
     "output_type": "stream",
     "text": [
      "mean: 1587.06\n",
      "median: 1302.93\n"
     ]
    }
   ],
   "source": [
    "descriptive_analysis('float')"
   ]
  },
  {
   "cell_type": "code",
   "execution_count": 20,
   "metadata": {},
   "outputs": [],
   "source": [
    "a=dataset['statuses_count']"
   ]
  },
  {
   "cell_type": "code",
   "execution_count": 21,
   "metadata": {},
   "outputs": [
    {
     "name": "stdout",
     "output_type": "stream",
     "text": [
      "250.0\n"
     ]
    }
   ],
   "source": [
    "print(np.percentile(a, 45))"
   ]
  },
  {
   "cell_type": "code",
   "execution_count": 22,
   "metadata": {},
   "outputs": [
    {
     "name": "stdout",
     "output_type": "stream",
     "text": [
      "533.78\n"
     ]
    }
   ],
   "source": [
    "print(np.percentile(a, 58))"
   ]
  },
  {
   "cell_type": "code",
   "execution_count": 23,
   "metadata": {},
   "outputs": [
    {
     "name": "stdout",
     "output_type": "stream",
     "text": [
      "94.0\n"
     ]
    }
   ],
   "source": [
    "print(np.percentile(a, 25))"
   ]
  },
  {
   "cell_type": "code",
   "execution_count": 24,
   "metadata": {},
   "outputs": [
    {
     "data": {
      "image/png": "[encoded data removed]",
      "text/plain": [
       "<matplotlib.figure.Figure at 0x1a1b0a14a8>"
      ]
     },
     "metadata": {},
     "output_type": "display_data"
    },
    {
     "name": "stdout",
     "output_type": "stream",
     "text": [
      "mean: 33.75\n",
      "median: 0.0\n"
     ]
    }
   ],
   "source": [
    "descriptive_analysis('listed_count')"
   ]
  },
  {
   "cell_type": "code",
   "execution_count": 25,
   "metadata": {},
   "outputs": [],
   "source": [
    "dataset1 = pd.read_csv('full_data.csv', header=0, index_col=0)"
   ]
  },
  {
   "cell_type": "code",
   "execution_count": 26,
   "metadata": {},
   "outputs": [
    {
     "data": {
      "text/html": [
       "<div>\n",
       "<style scoped>\n",
       "    .dataframe tbody tr th:only-of-type {\n",
       "        vertical-align: middle;\n",
       "    }\n",
       "\n",
       "    .dataframe tbody tr th {\n",
       "        vertical-align: top;\n",
       "    }\n",
       "\n",
       "    .dataframe thead th {\n",
       "        text-align: right;\n",
       "    }\n",
       "</style>\n",
       "<table border=\"1\" class=\"dataframe\">\n",
       "  <thead>\n",
       "    <tr style=\"text-align: right;\">\n",
       "      <th></th>\n",
       "      <th>id</th>\n",
       "      <th>name</th>\n",
       "      <th>location</th>\n",
       "      <th>followers_count</th>\n",
       "      <th>following_count</th>\n",
       "      <th>favourites_count</th>\n",
       "      <th>statuses_count</th>\n",
       "      <th>listed_count</th>\n",
       "      <th>created_at</th>\n",
       "      <th>address</th>\n",
       "      <th>latitude</th>\n",
       "      <th>longitude</th>\n",
       "      <th>city</th>\n",
       "      <th>region</th>\n",
       "      <th>country</th>\n",
       "      <th>pred</th>\n",
       "    </tr>\n",
       "  </thead>\n",
       "  <tbody>\n",
       "    <tr>\n",
       "      <td>0</td>\n",
       "      <td>992465186362724352</td>\n",
       "      <td>warrior_mhs</td>\n",
       "      <td>Frisco, TX</td>\n",
       "      <td>154</td>\n",
       "      <td>367</td>\n",
       "      <td>2304</td>\n",
       "      <td>224</td>\n",
       "      <td>0</td>\n",
       "      <td>2018-05-04 18:05:14</td>\n",
       "      <td>Frisco, TX, USA</td>\n",
       "      <td>33.150674</td>\n",
       "      <td>-96.823612</td>\n",
       "      <td>Frisco</td>\n",
       "      <td>Texas</td>\n",
       "      <td>United States</td>\n",
       "      <td>ENFP</td>\n",
       "    </tr>\n",
       "    <tr>\n",
       "      <td>1</td>\n",
       "      <td>1037764508025012225</td>\n",
       "      <td>BchsAll</td>\n",
       "      <td>Florida, USA</td>\n",
       "      <td>94</td>\n",
       "      <td>325</td>\n",
       "      <td>72</td>\n",
       "      <td>365</td>\n",
       "      <td>0</td>\n",
       "      <td>2018-09-06 18:08:34</td>\n",
       "      <td>Florida, USA</td>\n",
       "      <td>27.664827</td>\n",
       "      <td>-81.515754</td>\n",
       "      <td>Avon Park</td>\n",
       "      <td>Florida</td>\n",
       "      <td>United States</td>\n",
       "      <td>ISTJ</td>\n",
       "    </tr>\n",
       "    <tr>\n",
       "      <td>2</td>\n",
       "      <td>1159308178875670528</td>\n",
       "      <td>HEADPOTUS</td>\n",
       "      <td>Manhattan, NY</td>\n",
       "      <td>95</td>\n",
       "      <td>4264</td>\n",
       "      <td>2401</td>\n",
       "      <td>3923</td>\n",
       "      <td>0</td>\n",
       "      <td>2019-08-08 03:39:43</td>\n",
       "      <td>Manhattan, New York, NY, USA</td>\n",
       "      <td>40.783060</td>\n",
       "      <td>-73.971249</td>\n",
       "      <td>Manhattan</td>\n",
       "      <td>New York</td>\n",
       "      <td>United States</td>\n",
       "      <td>INTJ</td>\n",
       "    </tr>\n",
       "    <tr>\n",
       "      <td>3</td>\n",
       "      <td>909020687934816256</td>\n",
       "      <td>lacenlyn</td>\n",
       "      <td>United States</td>\n",
       "      <td>1503</td>\n",
       "      <td>3838</td>\n",
       "      <td>27006</td>\n",
       "      <td>18169</td>\n",
       "      <td>3</td>\n",
       "      <td>2017-09-16 11:46:35</td>\n",
       "      <td>United States</td>\n",
       "      <td>37.090240</td>\n",
       "      <td>-95.712891</td>\n",
       "      <td>NaN</td>\n",
       "      <td>NaN</td>\n",
       "      <td>United States</td>\n",
       "      <td>ENTP</td>\n",
       "    </tr>\n",
       "    <tr>\n",
       "      <td>4</td>\n",
       "      <td>3742901</td>\n",
       "      <td>tropology</td>\n",
       "      <td>NaN</td>\n",
       "      <td>1692</td>\n",
       "      <td>4500</td>\n",
       "      <td>11764</td>\n",
       "      <td>9045</td>\n",
       "      <td>123</td>\n",
       "      <td>2007-04-07 23:09:31</td>\n",
       "      <td>NaN</td>\n",
       "      <td>NaN</td>\n",
       "      <td>NaN</td>\n",
       "      <td>NaN</td>\n",
       "      <td>NaN</td>\n",
       "      <td>NaN</td>\n",
       "      <td>ENTJ</td>\n",
       "    </tr>\n",
       "    <tr>\n",
       "      <td>...</td>\n",
       "      <td>...</td>\n",
       "      <td>...</td>\n",
       "      <td>...</td>\n",
       "      <td>...</td>\n",
       "      <td>...</td>\n",
       "      <td>...</td>\n",
       "      <td>...</td>\n",
       "      <td>...</td>\n",
       "      <td>...</td>\n",
       "      <td>...</td>\n",
       "      <td>...</td>\n",
       "      <td>...</td>\n",
       "      <td>...</td>\n",
       "      <td>...</td>\n",
       "      <td>...</td>\n",
       "      <td>...</td>\n",
       "    </tr>\n",
       "    <tr>\n",
       "      <td>2287</td>\n",
       "      <td>1146020936837214208</td>\n",
       "      <td>helenpieper64</td>\n",
       "      <td>Sudbury, East</td>\n",
       "      <td>571</td>\n",
       "      <td>3099</td>\n",
       "      <td>75</td>\n",
       "      <td>77</td>\n",
       "      <td>0</td>\n",
       "      <td>2019-07-02 11:40:58</td>\n",
       "      <td>Greater Sudbury, ON, Canada</td>\n",
       "      <td>46.491732</td>\n",
       "      <td>-80.993029</td>\n",
       "      <td>Greater Sudbury</td>\n",
       "      <td>Ontario</td>\n",
       "      <td>Canada</td>\n",
       "      <td>ENTP</td>\n",
       "    </tr>\n",
       "    <tr>\n",
       "      <td>2288</td>\n",
       "      <td>31487148</td>\n",
       "      <td>gpacanins</td>\n",
       "      <td>Miami, FL</td>\n",
       "      <td>1135</td>\n",
       "      <td>1278</td>\n",
       "      <td>706</td>\n",
       "      <td>3597</td>\n",
       "      <td>15</td>\n",
       "      <td>2009-04-15 19:09:21</td>\n",
       "      <td>Miami, FL, USA</td>\n",
       "      <td>25.761680</td>\n",
       "      <td>-80.191790</td>\n",
       "      <td>Miami</td>\n",
       "      <td>Florida</td>\n",
       "      <td>United States</td>\n",
       "      <td>INFJ</td>\n",
       "    </tr>\n",
       "    <tr>\n",
       "      <td>2289</td>\n",
       "      <td>949082659858284546</td>\n",
       "      <td>zackjunior18</td>\n",
       "      <td>Johannesburg, South Africa</td>\n",
       "      <td>8</td>\n",
       "      <td>213</td>\n",
       "      <td>149</td>\n",
       "      <td>80</td>\n",
       "      <td>0</td>\n",
       "      <td>2018-01-05 00:58:33</td>\n",
       "      <td>Johannesburg, South Africa</td>\n",
       "      <td>-26.204103</td>\n",
       "      <td>28.047305</td>\n",
       "      <td>Johannesburg</td>\n",
       "      <td>Gauteng</td>\n",
       "      <td>South Africa</td>\n",
       "      <td>INFJ</td>\n",
       "    </tr>\n",
       "    <tr>\n",
       "      <td>2290</td>\n",
       "      <td>562095735</td>\n",
       "      <td>Ahmed444Saeed</td>\n",
       "      <td>PESHAWAR,KPK</td>\n",
       "      <td>251</td>\n",
       "      <td>2291</td>\n",
       "      <td>8093</td>\n",
       "      <td>1748</td>\n",
       "      <td>0</td>\n",
       "      <td>2012-04-24 13:15:46</td>\n",
       "      <td>Peshawar, Khyber Pakhtunkhwa, Pakistan</td>\n",
       "      <td>34.015137</td>\n",
       "      <td>71.524915</td>\n",
       "      <td>Peshawar</td>\n",
       "      <td>Khyber Pakhtunkhwa</td>\n",
       "      <td>Pakistan</td>\n",
       "      <td>ENTP</td>\n",
       "    </tr>\n",
       "    <tr>\n",
       "      <td>2291</td>\n",
       "      <td>21457289</td>\n",
       "      <td>MSFTResearch</td>\n",
       "      <td>NaN</td>\n",
       "      <td>418876</td>\n",
       "      <td>1744</td>\n",
       "      <td>3223</td>\n",
       "      <td>7252</td>\n",
       "      <td>6611</td>\n",
       "      <td>2009-02-21 02:32:24</td>\n",
       "      <td>NaN</td>\n",
       "      <td>NaN</td>\n",
       "      <td>NaN</td>\n",
       "      <td>NaN</td>\n",
       "      <td>NaN</td>\n",
       "      <td>NaN</td>\n",
       "      <td>INTP</td>\n",
       "    </tr>\n",
       "  </tbody>\n",
       "</table>\n",
       "<p>2292 rows × 16 columns</p>\n",
       "</div>"
      ],
      "text/plain": [
       "                       id           name                    location  \\\n",
       "0      992465186362724352    warrior_mhs                  Frisco, TX   \n",
       "1     1037764508025012225        BchsAll                Florida, USA   \n",
       "2     1159308178875670528      HEADPOTUS               Manhattan, NY   \n",
       "3      909020687934816256       lacenlyn               United States   \n",
       "4                 3742901      tropology                         NaN   \n",
       "...                   ...            ...                         ...   \n",
       "2287  1146020936837214208  helenpieper64               Sudbury, East   \n",
       "2288             31487148      gpacanins                   Miami, FL   \n",
       "2289   949082659858284546   zackjunior18  Johannesburg, South Africa   \n",
       "2290            562095735  Ahmed444Saeed                PESHAWAR,KPK   \n",
       "2291             21457289   MSFTResearch                         NaN   \n",
       "\n",
       "      followers_count  following_count  favourites_count  statuses_count  \\\n",
       "0                 154              367              2304             224   \n",
       "1                  94              325                72             365   \n",
       "2                  95             4264              2401            3923   \n",
       "3                1503             3838             27006           18169   \n",
       "4                1692             4500             11764            9045   \n",
       "...               ...              ...               ...             ...   \n",
       "2287              571             3099                75              77   \n",
       "2288             1135             1278               706            3597   \n",
       "2289                8              213               149              80   \n",
       "2290              251             2291              8093            1748   \n",
       "2291           418876             1744              3223            7252   \n",
       "\n",
       "      listed_count           created_at  \\\n",
       "0                0  2018-05-04 18:05:14   \n",
       "1                0  2018-09-06 18:08:34   \n",
       "2                0  2019-08-08 03:39:43   \n",
       "3                3  2017-09-16 11:46:35   \n",
       "4              123  2007-04-07 23:09:31   \n",
       "...            ...                  ...   \n",
       "2287             0  2019-07-02 11:40:58   \n",
       "2288            15  2009-04-15 19:09:21   \n",
       "2289             0  2018-01-05 00:58:33   \n",
       "2290             0  2012-04-24 13:15:46   \n",
       "2291          6611  2009-02-21 02:32:24   \n",
       "\n",
       "                                     address   latitude  longitude  \\\n",
       "0                            Frisco, TX, USA  33.150674 -96.823612   \n",
       "1                               Florida, USA  27.664827 -81.515754   \n",
       "2               Manhattan, New York, NY, USA  40.783060 -73.971249   \n",
       "3                              United States  37.090240 -95.712891   \n",
       "4                                        NaN        NaN        NaN   \n",
       "...                                      ...        ...        ...   \n",
       "2287             Greater Sudbury, ON, Canada  46.491732 -80.993029   \n",
       "2288                          Miami, FL, USA  25.761680 -80.191790   \n",
       "2289              Johannesburg, South Africa -26.204103  28.047305   \n",
       "2290  Peshawar, Khyber Pakhtunkhwa, Pakistan  34.015137  71.524915   \n",
       "2291                                     NaN        NaN        NaN   \n",
       "\n",
       "                 city              region        country  pred  \n",
       "0              Frisco               Texas  United States  ENFP  \n",
       "1           Avon Park             Florida  United States  ISTJ  \n",
       "2           Manhattan            New York  United States  INTJ  \n",
       "3                 NaN                 NaN  United States  ENTP  \n",
       "4                 NaN                 NaN            NaN  ENTJ  \n",
       "...               ...                 ...            ...   ...  \n",
       "2287  Greater Sudbury             Ontario         Canada  ENTP  \n",
       "2288            Miami             Florida  United States  INFJ  \n",
       "2289     Johannesburg             Gauteng   South Africa  INFJ  \n",
       "2290         Peshawar  Khyber Pakhtunkhwa       Pakistan  ENTP  \n",
       "2291              NaN                 NaN            NaN  INTP  \n",
       "\n",
       "[2292 rows x 16 columns]"
      ]
     },
     "execution_count": 26,
     "metadata": {},
     "output_type": "execute_result"
    }
   ],
   "source": [
    "dataset1"
   ]
  },
  {
   "cell_type": "code",
   "execution_count": 27,
   "metadata": {},
   "outputs": [],
   "source": [
    "%matplotlib inline\n",
    "import matplotlib.pyplot as plt\n",
    "plt.style.use('seaborn')"
   ]
  },
  {
   "cell_type": "code",
   "execution_count": 28,
   "metadata": {},
   "outputs": [
    {
     "data": {
      "text/plain": [
       "<matplotlib.axes._subplots.AxesSubplot at 0x1a1e1b2f98>"
      ]
     },
     "execution_count": 28,
     "metadata": {},
     "output_type": "execute_result"
    },
    {
     "data": {
      "image/png": "[encoded data removed]",
      "text/plain": [
       "<matplotlib.figure.Figure at 0x1a1e1b27b8>"
      ]
     },
     "metadata": {},
     "output_type": "display_data"
    }
   ],
   "source": [
    "dataset_group = dataset1.groupby('pred')\n",
    "dataset_group.size().sort_values(ascending=False).plot(kind='bar', color='orange',figsize=(7,5))"
   ]
  }
 ],
 "metadata": {
  "kernelspec": {
   "display_name": "Python 3",
   "language": "python",
   "name": "python3"
  },
  "language_info": {
   "codemirror_mode": {
    "name": "ipython",
    "version": 3
   },
   "file_extension": ".py",
   "mimetype": "text/x-python",
   "name": "python",
   "nbconvert_exporter": "python",
   "pygments_lexer": "ipython3",
   "version": "3.6.4"
  }
 },
 "nbformat": 4,
 "nbformat_minor": 2
}
