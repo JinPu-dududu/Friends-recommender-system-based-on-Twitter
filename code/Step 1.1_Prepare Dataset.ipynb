{
 "cells": [
  {
   "cell_type": "code",
   "execution_count": 1,
   "metadata": {},
   "outputs": [],
   "source": [
    "import os\n",
    "home = r\"C:\\Users\\rose_\\OneDrive\\Desktop\\DA_Project\\DA_Project\"   ## use your direcitory (.../data)\n",
    "home2 = home + '/data'  ## /data/data path can get access to all raw data (tweets, followings)\n",
    "os.chdir(home)"
   ]
  },
  {
   "cell_type": "markdown",
   "metadata": {},
   "source": [
    "### Twitter API"
   ]
  },
  {
   "cell_type": "code",
   "execution_count": 2,
   "metadata": {},
   "outputs": [],
   "source": [
    "### Set an API\n",
    "with open(\"twitter_key&secret key.txt\") as f:\n",
    "    api_key = f.read().split(\"\\n\")\n",
    "consumer_key = api_key[0]\n",
    "consumer_secret = api_key[1]\n",
    "access_token = api_key[2]\n",
    "access_token_secret = api_key[3]\n",
    "\n",
    "import tweepy\n",
    "\n",
    "auth = tweepy.OAuthHandler(consumer_key, consumer_secret)\n",
    "auth.set_access_token(access_token, access_token_secret)\n",
    "\n",
    "# Setting wait_on_rate_limit and wait_on_rate_limit_notify to True makes the API object print a message and wait if the rate limit is exceeded\n",
    "api = tweepy.API(auth, wait_on_rate_limit=True, wait_on_rate_limit_notify=True)"
   ]
  },
  {
   "cell_type": "markdown",
   "metadata": {},
   "source": [
    "### Generate Sample"
   ]
  },
  {
   "cell_type": "code",
   "execution_count": null,
   "metadata": {},
   "outputs": [],
   "source": [
    "# ### Randomly choose users\n",
    "\n",
    "# def generate_random_sample(n):\n",
    "#     import numpy as np\n",
    "#     import pandas as pd\n",
    "#     import math\n",
    "    \n",
    "#     id_list = list()\n",
    "#     name_list = list()\n",
    "#     location_list = list()\n",
    "#     followers_count = list()\n",
    "#     following_count = list()\n",
    "#     favourites_count = list()\n",
    "#     statuses_count = list()\n",
    "#     listed_count = list()\n",
    "#     created_at = list()\n",
    "    \n",
    "#     sample = list(np.random.choice(int(1e9),n))\n",
    "#     nrequest = math.floor(n/100)\n",
    "    \n",
    "#     for i in range(nrequest+1):\n",
    "#         if (i == nrequest) and (n/100 > nrequest):\n",
    "#             subset = sample[100*i:n]\n",
    "#         elif (i == nrequest) and (n/100 == nrequest):\n",
    "#             break\n",
    "#         else:\n",
    "#             subset = sample[100*i:100*(i+1)]\n",
    "#         twitter_object = api.lookup_users(subset)\n",
    "#         for user in twitter_object:\n",
    "#             id_list.append(user.id_str)\n",
    "#             name_list.append(user.screen_name)\n",
    "#             location_list.append(user.location)\n",
    "#             followers_count.append(user.followers_count)\n",
    "#             friends_count.append(user.friends_count)\n",
    "#             favourites_count.append(user.favourites_count)\n",
    "#             statuses_count.append(user.statuses_count)\n",
    "#             listed_count.append(user.listed_count)\n",
    "#             created_at.append(user.created_at)\n",
    "#             path = home2+f\"/{user.id_str}\"\n",
    "#             if not os.path.exists(path):\n",
    "#                 os.mkdir(path)\n",
    "#                 os.chdir(path)\n",
    "#                 with open(\"description.txt\",\"w\",encoding=\"utf8\") as f:\n",
    "#                     f.write(user.description)\n",
    "#                     f.close()\n",
    "\n",
    "#     os.chdir(home)\n",
    "#     user_info = pd.DataFrame()\n",
    "#     user_info[\"id\"] = id_list\n",
    "#     user_info[\"name\"] = name_list\n",
    "#     user_info[\"location\"] = location_list\n",
    "#     user_info[\"followers_count\"] = followers_count\n",
    "#     user_info[\"friends_count\"] = friends_count\n",
    "#     user_info[\"favourites_count\"] = favourites_count\n",
    "#     user_info[\"statuses_count\"] = statuses_count\n",
    "#     user_info[\"listed_count\"] = listed_count\n",
    "#     user_info[\"created_at\"] = created_at\n",
    "#     return user_info, id_list"
   ]
  },
  {
   "cell_type": "code",
   "execution_count": 6,
   "metadata": {},
   "outputs": [],
   "source": [
    "# ### Build dataset using hashtags\n",
    "\n",
    "# def hashtag_generate_center(query,n):\n",
    "#     import numpy as np\n",
    "#     import pandas as pd\n",
    "#     import os\n",
    "    \n",
    "#     id_list = list()\n",
    "#     name_list = list()\n",
    "#     location_list = list()\n",
    "#     followers_count = list()\n",
    "#     friends_count = list()\n",
    "#     favourites_count = list()\n",
    "#     statuses_count = list()\n",
    "#     listed_count = list()\n",
    "#     created_at = list()\n",
    "#     i = 0\n",
    "\n",
    "#     for tweet in tweepy.Cursor(api.search, q=query,tweet_mode='extended',lang=\"en\").items(n):\n",
    "#         id_ = tweet.user.id_str\n",
    "#         if id_ not in id_list and not tweet.user.protected:\n",
    "#             id_list.append(tweet.user.id_str)\n",
    "#             name_list.append(tweet.user.screen_name)\n",
    "#             location_list.append(tweet.user.location)\n",
    "#             followers_count.append(tweet.user.followers_count)\n",
    "#             friends_count.append(tweet.user.friends_count)\n",
    "#             favourites_count.append(tweet.user.favourites_count)\n",
    "#             statuses_count.append(tweet.user.statuses_count)\n",
    "#             listed_count.append(tweet.user.listed_count)\n",
    "#             created_at.append(tweet.user.created_at)\n",
    "#             path = home2+f\"/{tweet.user.id_str}\"\n",
    "#             if not os.path.exists(path):\n",
    "#                 os.mkdir(path)\n",
    "#                 os.chdir(path)\n",
    "#                 with open(\"description.txt\",\"w\",encoding=\"utf8\") as f:\n",
    "#                     f.write(tweet.user.description)\n",
    "#                     f.close()\n",
    "\n",
    "#     os.chdir(home)\n",
    "#     user_info = pd.DataFrame()\n",
    "#     user_info[\"id\"] = id_list\n",
    "#     user_info[\"name\"] = name_list\n",
    "#     user_info[\"location\"] = location_list\n",
    "#     user_info[\"followers_count\"] = followers_count\n",
    "#     user_info[\"friends_count\"] = friends_count\n",
    "#     user_info[\"favourites_count\"] = favourites_count\n",
    "#     user_info[\"statuses_count\"] = statuses_count\n",
    "#     user_info[\"listed_count\"] = listed_count\n",
    "#     user_info[\"created_at\"] = created_at\n",
    "    \n",
    "#     return user_info,id_list"
   ]
  },
  {
   "cell_type": "code",
   "execution_count": 3,
   "metadata": {},
   "outputs": [],
   "source": [
    "### Choose Columbia University Followers (300k+,can be extended to NYU)\n",
    "def related_sample(id_,n):\n",
    "    import numpy as np\n",
    "    import pandas as pd\n",
    "    import os\n",
    "    \n",
    "    id_list = list()\n",
    "    name_list = list()\n",
    "    location_list = list()\n",
    "    followers_count = list()\n",
    "    friends_count = list()\n",
    "    favourites_count = list()\n",
    "    statuses_count = list()\n",
    "    listed_count = list()\n",
    "    created_at = list()\n",
    "    i = 0\n",
    "\n",
    "    for item in tweepy.Cursor(api.followers, id=id_).items(n):\n",
    "        id_list.append(item.id_str)\n",
    "        name_list.append(item.screen_name)\n",
    "        location_list.append(item.location)\n",
    "        followers_count.append(item.followers_count)\n",
    "        friends_count.append(item.friends_count)\n",
    "        favourites_count.append(item.favourites_count)\n",
    "        statuses_count.append(item.statuses_count)\n",
    "        listed_count.append(item.listed_count)\n",
    "        created_at.append(item.created_at)\n",
    "        path = home2+f\"/{item.id_str}\"\n",
    "        if not os.path.exists(path):\n",
    "            os.mkdir(path)\n",
    "            os.chdir(path)\n",
    "            with open(\"description.txt\",\"w\",encoding=\"utf8\") as f:\n",
    "                f.write(item.description)\n",
    "                f.close()\n",
    "\n",
    "    os.chdir(home)\n",
    "    user_info = pd.DataFrame()\n",
    "    user_info[\"id\"] = id_list\n",
    "    user_info[\"name\"] = name_list\n",
    "    user_info[\"location\"] = location_list\n",
    "    user_info[\"followers_count\"] = followers_count\n",
    "    user_info[\"friends_count\"] = friends_count\n",
    "    user_info[\"favourites_count\"] = favourites_count\n",
    "    user_info[\"statuses_count\"] = statuses_count\n",
    "    user_info[\"listed_count\"] = listed_count\n",
    "    user_info[\"created_at\"] = created_at\n",
    "    \n",
    "    return user_info,id_list"
   ]
  },
  {
   "cell_type": "code",
   "execution_count": null,
   "metadata": {},
   "outputs": [],
   "source": [
    "user_info = related_sample('248795646')\n",
    "user_info.to_csv('user_info.csv', float_format='{:f}'.format, encoding='utf-8')"
   ]
  },
  {
   "cell_type": "markdown",
   "metadata": {},
   "source": [
    "### Network"
   ]
  },
  {
   "cell_type": "code",
   "execution_count": 4,
   "metadata": {},
   "outputs": [],
   "source": [
    "import pandas as pd\n",
    "import numpy as np\n",
    "valid_data = pd.read_csv(\"user_info.csv\",index_col=0)\n",
    "valid_data.index = np.arange(len(valid_data))\n",
    "valid_id = list(valid_data[\"id\"])"
   ]
  },
  {
   "cell_type": "code",
   "execution_count": null,
   "metadata": {},
   "outputs": [],
   "source": [
    "### Network Built\n",
    "\n",
    "def get_network(id_list):\n",
    "    for id_ in id_list:\n",
    "        path = home2+f\"/{id_}\"\n",
    "        os.chdir(path)\n",
    "        try:\n",
    "            if os.path.exists(\"friends.txt\"):\n",
    "                os.remove(\"friends.txt\")\n",
    "            with open(\"friends.txt\",\"w\",encoding=\"utf8\") as f:\n",
    "                for follower in tweepy.Cursor(api.friends_ids, id=str(id_)).items():\n",
    "                    f.write(str(follower)+' ')\n",
    "                f.close()\n",
    "        except:\n",
    "            continue\n",
    "    os.chdir(home)\n",
    "    return"
   ]
  },
  {
   "cell_type": "code",
   "execution_count": null,
   "metadata": {},
   "outputs": [],
   "source": [
    "get_network(valid_id)"
   ]
  },
  {
   "cell_type": "markdown",
   "metadata": {},
   "source": [
    "### Text"
   ]
  },
  {
   "cell_type": "code",
   "execution_count": 4,
   "metadata": {},
   "outputs": [],
   "source": [
    "def tweets(id_list):\n",
    "    status = list()\n",
    "    for i in id_list:\n",
    "        path = home2+f\"/{i}\"\n",
    "        os.chdir(path)\n",
    "        try:\n",
    "            if os.path.exists(\"tweet.txt\"):\n",
    "                continue\n",
    "            else:\n",
    "                with open(\"tweet.txt\",\"a\",encoding=\"utf8\") as f:\n",
    "                    for tweet in tweepy.Cursor(api.user_timeline, id=i,tweet_mode='extended').items():\n",
    "                        f.write(tweet.full_text+\"|||\")\n",
    "                    f.close()\n",
    "        except:\n",
    "            continue  \n",
    "    return"
   ]
  },
  {
   "cell_type": "code",
   "execution_count": 5,
   "metadata": {},
   "outputs": [],
   "source": [
    "tweets(valid_id)"
   ]
  }
 ],
 "metadata": {
  "kernelspec": {
   "display_name": "Python 3",
   "language": "python",
   "name": "python3"
  },
  "language_info": {
   "codemirror_mode": {
    "name": "ipython",
    "version": 3
   },
   "file_extension": ".py",
   "mimetype": "text/x-python",
   "name": "python",
   "nbconvert_exporter": "python",
   "pygments_lexer": "ipython3",
   "version": "3.7.4"
  }
 },
 "nbformat": 4,
 "nbformat_minor": 2
}
