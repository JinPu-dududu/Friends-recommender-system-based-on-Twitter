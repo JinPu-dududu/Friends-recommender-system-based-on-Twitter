{
 "cells": [
  {
   "cell_type": "code",
   "execution_count": 17,
   "metadata": {},
   "outputs": [],
   "source": [
    "import numpy as np\n",
    "import pandas as pd\n",
    "import matplotlib.pyplot as plt\n",
    "\n",
    "from fastai.text.data import TextLMDataBunch,TextClasDataBunch\n",
    "from fastai.text.data import load_data\n",
    "from fastai.text.learner import language_model_learner,AWD_LSTM, text_classifier_learner"
   ]
  },
  {
   "cell_type": "code",
   "execution_count": 2,
   "metadata": {},
   "outputs": [],
   "source": [
    "seed= 2453 \n",
    "np.random.seed(seed)"
   ]
  },
  {
   "cell_type": "code",
   "execution_count": 3,
   "metadata": {},
   "outputs": [
    {
     "data": {
      "text/html": [
       "<div>\n",
       "<style scoped>\n",
       "    .dataframe tbody tr th:only-of-type {\n",
       "        vertical-align: middle;\n",
       "    }\n",
       "\n",
       "    .dataframe tbody tr th {\n",
       "        vertical-align: top;\n",
       "    }\n",
       "\n",
       "    .dataframe thead th {\n",
       "        text-align: right;\n",
       "    }\n",
       "</style>\n",
       "<table border=\"1\" class=\"dataframe\">\n",
       "  <thead>\n",
       "    <tr style=\"text-align: right;\">\n",
       "      <th></th>\n",
       "      <th>posts</th>\n",
       "    </tr>\n",
       "    <tr>\n",
       "      <th>type</th>\n",
       "      <th></th>\n",
       "    </tr>\n",
       "  </thead>\n",
       "  <tbody>\n",
       "    <tr>\n",
       "      <th>INFJ</th>\n",
       "      <td>'http://www.youtube.com/watch?v=qsXHcwe3krw|||...</td>\n",
       "    </tr>\n",
       "    <tr>\n",
       "      <th>ENTP</th>\n",
       "      <td>'I'm finding the lack of me in these posts ver...</td>\n",
       "    </tr>\n",
       "    <tr>\n",
       "      <th>INTP</th>\n",
       "      <td>'Good one  _____   https://www.youtube.com/wat...</td>\n",
       "    </tr>\n",
       "    <tr>\n",
       "      <th>INTJ</th>\n",
       "      <td>'Dear INTP,   I enjoyed our conversation the o...</td>\n",
       "    </tr>\n",
       "    <tr>\n",
       "      <th>ENTJ</th>\n",
       "      <td>'You're fired.|||That's another silly misconce...</td>\n",
       "    </tr>\n",
       "    <tr>\n",
       "      <th>...</th>\n",
       "      <td>...</td>\n",
       "    </tr>\n",
       "    <tr>\n",
       "      <th>ISFP</th>\n",
       "      <td>'https://www.youtube.com/watch?v=t8edHB_h908||...</td>\n",
       "    </tr>\n",
       "    <tr>\n",
       "      <th>ENFP</th>\n",
       "      <td>'So...if this thread already exists someplace ...</td>\n",
       "    </tr>\n",
       "    <tr>\n",
       "      <th>INTP</th>\n",
       "      <td>'So many questions when i do these things.  I ...</td>\n",
       "    </tr>\n",
       "    <tr>\n",
       "      <th>INFP</th>\n",
       "      <td>'I am very conflicted right now when it comes ...</td>\n",
       "    </tr>\n",
       "    <tr>\n",
       "      <th>INFP</th>\n",
       "      <td>'It has been too long since I have been on per...</td>\n",
       "    </tr>\n",
       "  </tbody>\n",
       "</table>\n",
       "<p>8675 rows × 1 columns</p>\n",
       "</div>"
      ],
      "text/plain": [
       "                                                  posts\n",
       "type                                                   \n",
       "INFJ  'http://www.youtube.com/watch?v=qsXHcwe3krw|||...\n",
       "ENTP  'I'm finding the lack of me in these posts ver...\n",
       "INTP  'Good one  _____   https://www.youtube.com/wat...\n",
       "INTJ  'Dear INTP,   I enjoyed our conversation the o...\n",
       "ENTJ  'You're fired.|||That's another silly misconce...\n",
       "...                                                 ...\n",
       "ISFP  'https://www.youtube.com/watch?v=t8edHB_h908||...\n",
       "ENFP  'So...if this thread already exists someplace ...\n",
       "INTP  'So many questions when i do these things.  I ...\n",
       "INFP  'I am very conflicted right now when it comes ...\n",
       "INFP  'It has been too long since I have been on per...\n",
       "\n",
       "[8675 rows x 1 columns]"
      ]
     },
     "execution_count": 3,
     "metadata": {},
     "output_type": "execute_result"
    }
   ],
   "source": [
    "path = ''\n",
    "data_dir = 'mbti.csv'\n",
    "data = pd.read_csv(data_dir, header=0, index_col=0)\n",
    "data"
   ]
  },
  {
   "cell_type": "code",
   "execution_count": 4,
   "metadata": {},
   "outputs": [
    {
     "name": "stdout",
     "output_type": "stream",
     "text": [
      "<class 'pandas.core.frame.DataFrame'>\n",
      "Index: 8675 entries, INFJ to INFP\n",
      "Data columns (total 1 columns):\n",
      "posts    8675 non-null object\n",
      "dtypes: object(1)\n",
      "memory usage: 135.5+ KB\n"
     ]
    }
   ],
   "source": [
    "data.info()"
   ]
  },
  {
   "cell_type": "code",
   "execution_count": null,
   "metadata": {},
   "outputs": [],
   "source": [
    "# Language model data\n",
    "data_lm = TextLMDataBunch.from_csv(path, data_dir)\n",
    "# Classifier model data\n",
    "data_clas = TextClasDataBunch.from_csv(path, data_dir, vocab=data_lm.train_ds.vocab, bs=32)"
   ]
  },
  {
   "cell_type": "code",
   "execution_count": null,
   "metadata": {},
   "outputs": [],
   "source": [
    "#save the results\n",
    "data_lm.save('data_lm_export.pkl')\n",
    "data_clas.save('data_clas_export.pkl')"
   ]
  },
  {
   "cell_type": "code",
   "execution_count": 26,
   "metadata": {},
   "outputs": [
    {
     "data": {
      "text/plain": [
       "''"
      ]
     },
     "execution_count": 26,
     "metadata": {},
     "output_type": "execute_result"
    }
   ],
   "source": [
    "path"
   ]
  },
  {
   "cell_type": "code",
   "execution_count": 8,
   "metadata": {},
   "outputs": [],
   "source": [
    "#load what we saved before\n",
    "data_lm = load_data(path, 'data_lm_export.pkl')\n",
    "data_clas = load_data(path, 'data_clas_export.pkl', bs=32)"
   ]
  },
  {
   "cell_type": "code",
   "execution_count": 11,
   "metadata": {},
   "outputs": [
    {
     "data": {
      "text/html": [
       "<table border=\"1\" class=\"dataframe\">\n",
       "  <thead>\n",
       "    <tr style=\"text-align: left;\">\n",
       "      <th>epoch</th>\n",
       "      <th>train_loss</th>\n",
       "      <th>valid_loss</th>\n",
       "      <th>accuracy</th>\n",
       "      <th>time</th>\n",
       "    </tr>\n",
       "  </thead>\n",
       "  <tbody>\n",
       "    <tr>\n",
       "      <td>0</td>\n",
       "      <td>4.411077</td>\n",
       "      <td>4.190016</td>\n",
       "      <td>0.257428</td>\n",
       "      <td>06:02</td>\n",
       "    </tr>\n",
       "  </tbody>\n",
       "</table>"
      ],
      "text/plain": [
       "<IPython.core.display.HTML object>"
      ]
     },
     "metadata": {},
     "output_type": "display_data"
    }
   ],
   "source": [
    "#created a learner to start the training\n",
    "learn = language_model_learner(data_lm, AWD_LSTM, drop_mult=0.5)\n",
    "learn.fit_one_cycle(1, 1e-2)"
   ]
  },
  {
   "cell_type": "code",
   "execution_count": 12,
   "metadata": {},
   "outputs": [
    {
     "data": {
      "text/html": [
       "<table border=\"1\" class=\"dataframe\">\n",
       "  <thead>\n",
       "    <tr style=\"text-align: left;\">\n",
       "      <th>epoch</th>\n",
       "      <th>train_loss</th>\n",
       "      <th>valid_loss</th>\n",
       "      <th>accuracy</th>\n",
       "      <th>time</th>\n",
       "    </tr>\n",
       "  </thead>\n",
       "  <tbody>\n",
       "    <tr>\n",
       "      <td>0</td>\n",
       "      <td>4.022871</td>\n",
       "      <td>3.910364</td>\n",
       "      <td>0.290988</td>\n",
       "      <td>06:45</td>\n",
       "    </tr>\n",
       "  </tbody>\n",
       "</table>"
      ],
      "text/plain": [
       "<IPython.core.display.HTML object>"
      ]
     },
     "metadata": {},
     "output_type": "display_data"
    }
   ],
   "source": [
    "#train again\n",
    "learn.unfreeze()\n",
    "learn.fit_one_cycle(1, 1e-3)"
   ]
  },
  {
   "cell_type": "code",
   "execution_count": 13,
   "metadata": {},
   "outputs": [
    {
     "data": {
      "text/html": [
       "<table border=\"1\" class=\"dataframe\">\n",
       "  <thead>\n",
       "    <tr style=\"text-align: left;\">\n",
       "      <th>epoch</th>\n",
       "      <th>train_loss</th>\n",
       "      <th>valid_loss</th>\n",
       "      <th>accuracy</th>\n",
       "      <th>time</th>\n",
       "    </tr>\n",
       "  </thead>\n",
       "  <tbody>\n",
       "    <tr>\n",
       "      <td>0</td>\n",
       "      <td>3.922797</td>\n",
       "      <td>3.882461</td>\n",
       "      <td>0.294110</td>\n",
       "      <td>06:45</td>\n",
       "    </tr>\n",
       "  </tbody>\n",
       "</table>"
      ],
      "text/plain": [
       "<IPython.core.display.HTML object>"
      ]
     },
     "metadata": {},
     "output_type": "display_data"
    }
   ],
   "source": [
    "learn.unfreeze()\n",
    "learn.fit_one_cycle(1, slice(2e-3/100, 2e-3))"
   ]
  },
  {
   "cell_type": "code",
   "execution_count": 14,
   "metadata": {},
   "outputs": [
    {
     "data": {
      "text/plain": [
       "\"If all these things should be not true i 'm trying to imagine how a\""
      ]
     },
     "execution_count": 14,
     "metadata": {},
     "output_type": "execute_result"
    }
   ],
   "source": [
    "learn.predict(\"If all these things should\", n_words=10)"
   ]
  },
  {
   "cell_type": "code",
   "execution_count": 15,
   "metadata": {},
   "outputs": [],
   "source": [
    "#save the model for our classifier\n",
    "learn.save_encoder('ft_enc')"
   ]
  },
  {
   "cell_type": "code",
   "execution_count": 36,
   "metadata": {},
   "outputs": [
    {
     "data": {
      "text/plain": [
       "RNNLearner(data=TextClasDataBunch;\n",
       "\n",
       "Train: LabelList (6939 items)\n",
       "x: TextList\n",
       "xxbos ' i think that it 's a little bit of both . xxmaj while xxup adhd can definitely occur outside of types that use xxmaj ne , and plenty of xxmaj ne users do n't qualify for a clinical diagnosis of xxup adhd , i still think that there's ... |||https : / / youtu.be / xxunk xxmaj it is a very positive and upbeat song ; xxunk : xxmaj tritype 458 / 548 / 845 . xxmaj huh . xxmaj never thought of that xxunk male . i have no problem identifying with the male gender - it 's what i am biologically , after all . i look like a male , dress like a male , and sound like a male . i 've never felt any desire to behave ... |||to actually have free time on xxmaj friday nights instead of having to stay up until 1 xxup am doing homework all the time.|||in 1.5 to 2 years i 'll ( hopefully ) have earned my degree . i might do a master 's as well . i have to decide pretty soon . xxmaj the main issue is finances . xxmaj major : xxmaj computer xxmaj science xxmaj emphasis : xxmaj animation ... |||yes ! xxmaj for as long as i can remember , i 've been building a fantasy universe inside of my head . xxmaj the best part about it is that it 's extremely large , so theoretically i can always keep expanding it . ... |||my first post in this thread was written when i was a naive college freshman who had no clue how to study . i ended up retaking the intro course and thankfully i have n't had to retake any programming ... |||hang in there . xxmaj although i do n't know you , i understand , at least to an extent , how you feel . i lost my grandpa ( father 's side ) in 2015 . i too believe that he is in heaven , where his pain from ... xxup |||i got my core type right from the beginning . i 've considered other types , certainly , but i 've always concluded 4w5 sx / sp at the end of the day . xxmaj it simply hits too close to home : the emotionality , the ... |||nope . xxmaj it would n't be a particularly good combination with my xxunk : 1 . xxmaj on the xxmaj wing - xxmaj owl xxmaj city 2 . xxmaj ghost xxmaj love xxmaj score - xxmaj nightwish 3 . xxmaj lucky - xxmaj jason xxmaj mraz ft . xxmaj colbie xxmaj xxunk 4 . xxmaj master xxmaj passion xxmaj greed - xxmaj nightwish 5 . xxmaj your xxmaj star - xxmaj evanescence xxmaj this list changes ... |||i'm against euthanasia . xxmaj having struggled with suicidal ideation in the past , i can now say that i am very glad that i decided to live , even though i still struggle with a lot of things . xxmaj if you've ... |||10 / 12 . i missed the one on boiling water . i knew that the xxunk affected it , but i thought it raised the boiling point , not lowered it . xxmaj and the one with the magnifying glass . i knew that it bent ... |||25 / 50 when i took this earlier today . xxmaj so yeah , right along the border , just a little bit above xxunk suits me just fine for most of the things that i do , and i really like the layout and aesthetics of it , so i voted for xxmaj apple . :) xxmaj and while there are certainly viruses out there that affect xxmaj mac ... xxup |||i do n't know why it hurts so much when people delete you as a friend on social networks and forums , here or otherwise . xxmaj or when they reject you and block you for no reason , like someone i know xxup irl on ... |||my ideal lady , hmm . i like these sort of threads a little too much . xxmaj giant text wall incoming . xxmaj physical : - xxmaj pale skin , and i mean so pale that she ca n't tan . xxmaj not albino though . :p i have no idea ... |||i'm very much the same way . i 've always dreamed of falling in love with a beautiful girl and having this amazing , almost - perfect romance . xxmaj and maybe i will , but as of right now ... um , i 'm not even ... xxup |||i put 8 . xxmaj things hurt me way too much . xxmaj that being said , i hardly ever show my emotions , so i suppose those who know me xxup irl might rate it as a bit xxunk : xxup bs in xxmaj computer xxmaj science : xxmaj animation xxmaj emphasis . xxup mbti : xxup infp i 'm still working on the degree though . xxmaj took me almost three years to get accepted into the program . xxmaj but i absolutely love it . ... |||now hush little baby , do n't you cry xxmaj everything 's gon na be alright ... i sure hope it will be . i like xxmaj xxunk : / / www.youtube.com / watch?v = xxunk xxmaj so pretty < xxup 3|||i think that aliens exist . xxmaj probably not in our solar system , but the universe is so vast for me to think that we 're alone . xxmaj it would be amazing to meet one , or see what one of their civilizations ... xxunk just watched xxmaj finding xxmaj dory a few days ago . xxup :p xxmaj it was great ! 5 out of 5 stars . i would 've liked to see the sharks from the first movie again , though.|||ah , that makes sense ! xxmaj and i did n't know that gyms had different levels with different amounts of xxmaj pokemon ; that 's cool . i live close to a hospital myself , so i will probably try that gym first xxrep 4 . |||ah , very nice ! xxmaj thanks for the strategy tips as well . xxmaj it 's good to hear that it 's not too hard to take over gyms ; i guess i was worried that the xxmaj pokemon there would have super high xxup cp or something xxrep 4 . |||dear work , xxmaj why did you schedule me for a midnight to 6 xxup am shift yet again , every single xxmaj monday before class ? i have requested multiple times to stay away from those shifts at all cost , because i ... |||ooh , gym points ? i 'll have to look into that ! xxmaj is that a way to avoid paying actual money , then ? xxmaj and yeah , i 'll probably delete some of those revives . i 've been hoarding them up since i have n't taken ... |||yeah i play . i 'm on xxmaj team xxmaj instinct ; my highest xxmaj pokemon right now is a xxmaj xxunk with xxup cp 630 . xxmaj however , i have yet to challenge any gyms . i 'm at a loss now though because my bag is full and so is my ... |||when i was in elementary school , i wanted to do three things : be a writer , design theme park rides , and be a scientist ( specifically , marine biology or paleontology because sharks , stingrays , and ... |||today , my dad gave me this article to read about how soulmates do n't exist . xxmaj it hurt a lot . xxmaj this is n't the only time someone has tried to change my mind . i have made it very clear that this is a ... |||wasn't sure where to post this , so i figure the random thoughts thread works fine . xxup :d i just took the xxmaj pottermore xxmaj sorting xxmaj hat test . xxmaj well , i did a few days ago . i was convinced for many years of my ... |||these threads are always fun . :) xxup infp xxmaj do n't fit : - i 'm actually extremely hygienic . xxmaj case in point : i freak out if i do n't floss before bed . xxup :d i even xxunk this one time when i was doing ... |||if someone figures out how to make days last 48 hours instead of 24 , i will personally make you seventeen xxunk of imaginary cookies . i never have time for fun anymore -_-|||this was beautifully written , especially this paragraph here , and especially the part i bolded . i do n't have much to say other than that was a really good introspective ... self - xxunk ... |||banned because that pun was awesome and i 'm jealous even though it was the person above you who initially made said pun . xxunk xxmaj aww , thank you ! :3 xxmaj you are awesome and one of the best friends i 've ever xxunk < 3|||right now i 'm supposed to be registering for my classes for next semester at college . xxmaj registration started about 15 minutes ago . xxmaj but of course , just my luck , i 'm clicking on classes to xxunk ... xxunk aura here.|||i definitely believe in soulmates . xxmaj this is also what i consider them to be . i 'll find mine , and when i find her , i 'll know.|||i'm sick of the real world . xxmaj there 's too much hurt here . i want to live in my dream world forever . i want it to become real . i want to fly away.|||i do n't care too much about fashion , but i 've always cared about my appearance . i want to look attractive ( to females xxup :p otherwise nah not important ) . xxmaj and the way i dress is an artistic ... |||southern xxmaj california , xxup usa . xxmaj not saying which city though : ninja:|||it 's working for me now . xxmaj there were other threads ? xd|||this happened to me . i also ca n't view anyone else 's profile . edit : okay , i can see other people 's profile 's now|||this post will probably not get thanked . ^_^ xxmaj depressed people do n't need to suck it up . xxmaj they need to be loved and cared for . xxmaj people need to actually exhibit sympathy . xxmaj mental illness is just ... |||despite all my unhappiness and negativity , deep down i have this feeling that everything is going to be all right in the end , and that somehow all my dreams will come true . xxmaj every single one of them xxrep 4 . |||not really . xxmaj be a creep like me and stalk the member pictures thread . xxmaj most people here are freaking sexy - at least the ones that post pictures anyway . xxup :d ',xxbos ' i do n't know if it was the best one , but undoubtely one of the best compliment i received was about 2 weeks ago at work . xxmaj my boss ( who is the big boss of my company ) took like half an hour to explain ... |||funny . xxmaj being myself an xxup entp who has spotted another one at work , that 's how i manage to get some things done by this other xxup entp . xxmaj hey xxup entp , too bad you ca n't do that , i 'll have to ask someone ... |||you deserved your xxunk xxunk try to make money by investing in stocks . +20 % per year , xxunk % so far , after taxes ... it 's lucrative and xxunk love it . xxmaj goes great with your incredible eyes ! xxup |||i do n't know , maybe you should show us ? xxup |||i think i 'm handsome . i know that : 1 / i can be mistaken because of genetics , which makes men always think they 're more attractive to women than they actually are ; 2 / xxmaj being a man , xxunk ... |||your xxmaj cognitive xxmaj functions : xxmaj extroverted xxmaj intuition ( xxmaj ne ) xxrep 23 | xxunk xxmaj extroverted xxmaj thinking ( xxmaj te ) xxrep 20 | 9.08 xxmaj introverted xxmaj thinking ( xxmaj ti ) xxrep 19 | xxunk ... |||death and xxunk you very reluctant to argue or are you prone to argue to defend some value or belief you have ? |||sounds xxup infp to me.|||i hate journalists who pretend to be specialized in everything but who do n't make any effort to study in depth the topics they talk about.|||i'm afraid she has already started . i should have noticed the eyebrows and the signature sooner . xxunk be honest , i find funny - colored - hair kinda cute for young women ( a little less for 50yo women ) . xxmaj when i was your age , i had dreadlocks . xxup that was a bad xxunk to figure out what a girl whose eyes make her look like a dog or some xxunk could be with a pink hair and a xxunk face . xxunk xxmaj you look way better now.|||i'm sure you 're no evil but some pure incarnation of kindness and gentleness . i can see it in your gorgeously made - up eyes.|||i have to confess that i just took a look at draculaoverlord 's profile and found her and her incredible eyes so xxunk i relate to what happens at my workplace , we may often procrastinate but achieve in a couple hours what others achieve in weeks , and the quality of our work is often way better . xxmaj something which ... |||yes you are and it makes me quite sad 'cause before i met you i 've always got along very well with xxunk , it 's because i thought inferior was the 3rd one . i was trying to show off using the xxup mbti terminology and thought it was 1st dominant , then 2nd auxiliary , then 3rd inferior , then ... |||two things : 1 / xxmaj it 's not because you started this thread that you have any right to tell what people should or should not say ; 2 / xxmaj it 's not a question of who 's right and who 's wrong . xxmaj for now , it's ... |||thanks , that 's what i meant , but not what i typed ; ) xxup |||i have no idea if there 's a single xxup intj female here , but lots pretend to xxunk , fellow xxunk 's inferior extraverted thinking : if some experts say something , then it has to be the truth , there 's no need to have a deep understanding of what we 're talking about ; p|||because you did n't make any effort to understand what xxup mbti is . xxmaj it 's not a question of letters , but of functions . xxmaj letters are a trap because they 're just a shortcut to identify a pack of functions xxrep 4 . |||and so what ? xxmaj is it supposed to prove some point ? i was n't trying , in my previous message , to prove any point . i just wanted to be sure that you would be able , if you wanted to , to learn more about ... |||just saying , but what 's quite annoying for people here is that your answers only deal with some extremely simplified xxup mbti theories / tests . xxmaj you have never answered to what was about jungian cognitive ... xxup |||i only flirt with people i like , or people whose i know they 're not going to take my flirt seriously , or people who are already in a relationship i know they would never leave . xxmaj there can be ... |||if you act good enough to let them think that you actually believe in these traditions , i think it would be trolling . xxmaj plus , you will have the satisfaction to have filled their mailboxes with dog ... |||what about filling their mailboxes with dog poop , then mailing them that you did that on the purpose to put the bad eye away after reading such a thing on a blog about ancient chinese traditions ? |||what about filling their mailboxes with dog poop ? |||don't want to talk about that with you anymore , that does n't lead to anything . i just wondered what you were expecting us to answer , once you noticed that no one here thought you were an actual ... |||it 's not easy to make me laugh out loud , but you actually did . xxmaj you 're xxunk xxmaj back to serious . xxmaj there 's no need to get upset , if you think you 're an xxup entp , fine . xxmaj but here you come with a thread basically stating hey i 'm an xxup entp with a 100 % xxup enfp behaviour ( and ... |||got a new haircut . 3 xxrep 4 4 xxunk to admit that you 're xxunk xxmaj rly ? xxmaj xxunk ... you post a xxup lot on xxunk yeah , could definitely be ! xxup |||i do n't think so , or he 's really excellent at imitating my xxup enfp xxunk every xxup entp would have done , i do n't take for truth what professional psychologists say just because they are professional psychologists ( that would be such a xxmaj te behaviour ! ) - and moreover , i ... |||because there 's no f / t dichotomy . xxmaj there 's an xxmaj fe / xxunk / xxmaj fe ) and xxmaj te / xxunk / xxmaj te ) dichotomy . xxmaj that means nothing to say i 'm a f and just stop to that . f - doms like xxup enfj and infps do n't use the same ... xxunk is ok while talking about introvert or extrovert . xxup entp 's and xxup intp 's core are n't that different as functions remain the same , but in a slightly different order . xxmaj would be difficult , i think , to tell ... |||also i 'm pretty sure almost every xxup entp who have been really caught by the xxup mbti stuff did try to see farther the tests which are nothing more than tests (= possible bias both from the test writer and ... |||enfps are xxmaj ne > xxmaj fi > xxmaj te > xxmaj si . entps are xxmaj ne > xxmaj ti > xxmaj fe > xxmaj si . i spot xxmaj fi when i see someone strongly valuing his principles ( like i 'm an xxup entp and there 's no way anyone could question that ! ) and acting like xxmaj hey ... xxup |||i would n't dare , dude . i would feel bad to hurt your xxunk . xxmaj it 's a test for xxunk we on xxmaj facebook or what ? |||(this guy is obviously an f ) ',xxbos ' i do that too . i used to have these grand plans of what i would be like and i worked really hard to become that person . xxmaj time passed and i 'm just still the same old me , not what i promised myself i ... |||hahah you clearly do n't want to get poisoned when you 're home alone and there 's no one to save you .. i can not relax if i can see open doors or cupboards , they actively disturb me . i donx92t ... xxunk , i 've never heard of anyone that would have that sort of internalized world ( except for fictional characters of course ) . i just sometimes think about social situations using a xxup 3d clock that ... |||controlling or influencing someone in a way that they would find offensive if they were aware of it . xxmaj the person does not know you 're intending to affect their actions / opinions . xxmaj being able to ... xxup |||i know , i was just trying to be funny and have a bit lighter end to my post xd i know my sense of humor is shitty and sarcasm is n't as obvious as you ca n't hear my tone etc . xxmaj but yeah , shitty life ... |||if you 're going for the change option , do it properly . xxmaj write a list of what kind of people you admire / envy / respect and what they do with their life . xxmaj what they eat , what kind of movies they like , what ... |||the worst is when you start watching a horror movie and it seems really good , and then they add some supernatural crap that just ruins it . i 've actually seen just a couple of horror movies i ... |||computer games like xxmaj civ , xxmaj sims , xxmaj cities : xxmaj xxunk - xxmaj typical xxmaj cheerleading - xxmaj probably the least typical xxup intj hobby there is xxmaj cats - xxmaj all smart people love cats and intjs are smart so xxmaj math ( especially ... |||you sum it up xxunk xxup mind . xxmaj just rewatched it after five years and it definitely is n't worth recommending . xxmaj there are like two good scenes in the whole movie and the plot is explained multiple times , which is very ... |||everyone can see that nature is beautiful , but not everyone can appreciate its beauty - they need a little push to the right direction to really see and feel what some notice with a first glance . i ... |||according to my best friend i 'm a proper xxup intj when i have my drunk angsty phase on ( comes usually after 3 - 4 drinks , goes away as i drink more ) . i usually seclude myself or take a good friend with me ... xxup |||istj & xxup entj i come off as an extravert ( very few of my friends type me as an introvert ) and sometimes i get a little impatient with people / want things done and my xxmaj te is pretty noticeable . i also ... |||in order from the best to excellent . xxmaj the very best ones ( you wo n't regret watching these ) : xxmaj millennium series ( the xxmaj swedish version , i love these so much ) xxmaj forrest xxmaj gump ( one of the few movies that ... |||this thread is inspired by a car trip with an xxup esfj through her home country . i enjoy pretty much all kinds of music , but then there are always some songs that just make me feel like crying or ... |||welcome to the world of fake xxmaj fe . xxmaj makes one 's life a lot xxunk that would be just cruel . i would tell them i like more fit bodies and offer to exercise with them if they are bothered by the way they look and actually want to do something about it . xxmaj then i ... xxup |||i have pretty much the same : xxmaj fi determines what are my goals / what i want / what is important and i use xxmaj te to figure a way to make stuff happen ( xxmaj ni helps with both ) . xxmaj unfortunately that 's not the ... |||avoid the xxmaj ni - xxmaj fi xxunk ? xxmaj you must be talented . i too was a very extraverted child , i used to have a best friend or two and switch them when i got bored ( every few months ) . i was very bossy , outgoing and loud and ... xxup |||yes ! xxmaj it usually goes like this : i 'm actually interested in the topic - > i get excited - > i tell what i think and why ( nowadays i tend to skip this step , since people seem reluctant to present any ... |||according to my xxup esfj friend my motto should be xxmaj hey guys , can we do so that .. ? which is n't even grammatically correct ( it makes sense when you translate it into xxmaj finnish but like that it 's just ... |||i'd rather listen to the advice my friends give me , then i can actually assess the value of the advice and the significance i should give to it . 8 . ' xxmaj do n’t be so cynical . xxmaj try to access that ... |||the laziest & stupidest thing i 've ever done : xxmaj did n't bother to study properly for a final exam even the day before but watched xxmaj netflix instead . xxmaj it 's not like a couple hours revision is going to ... |||so me and my xxup entp friend draculaoverlord went to a xxmaj halloween party and took some selfies to capture the fab xxunk reference we wrote on the wall with a lipstick . xxmaj it turned out that the phone ... |||lol that 's me in every picture always : d xxmaj and this one is n't even so bad since i was n't aware my friend was taking a pic , i hate taking pictures and especially selfies with friends because my ... xxup |||i know three infps . 1 . a guy who is my friend 's sister 's ex and lives in a neighbor country . xxmaj he visits his dad here every now and then and we used to meet and go party and then sleep at my place xxrep 4 . |||i've experienced something similar . xxmaj if you 're not interested in reading the novel version of this post , you can skip the next three paragraphs . i actually get kind of depressed for 2 - 5 months ... xxup |||istj , my mother is one . xxmaj in 4 out of 5 times i see her she speaks in a tight voice , gives only one word answers and snaps at everything and everyone and when i ask her why she is being so grumpy , the ... xxup |||i think your attitude is dangerous and maybe you should reconsider it ( look i 'm criticizing you ) . xxmaj no one is objective when it comes to oneself and it 's foolish to think so . xxmaj obviously , other people's ... |||thank you so much for posting this ! i have this xxup isfj friend and we 're pretty close . xxmaj however , i have to be in a certain mood to enjoy her company and i ca n't take it for too long periods of time ... xxup |||i can fully relate to this ! i always thought my inability to remember what exactly happened was because my xxmaj si is so undeveloped . i remember well what people and situations made me feel and think , but ... xxup |||i just spent about two hours on obsessing about my jewelry and organizing it . xxmaj here 's the result . http : / / s24.postimg.org / xxunk / xxunk xxmaj oh and in case you were wondering , the paper ... |||these are the main ways i use xxmaj ni in everyday life ( or at least what i think xxmaj ni is , the descriptions tend to be quite hard to understand ) . i find it easy to put myself in another person's ... xxup |||i have this horrible xxup ixfp roommate who likes me but is just hopeless ( i live in a cheap student apartment so there 's really no way to choose who i 'm living with ) . xxmaj last time i asked her to clean up ... |||http : / / s30.postimg.org / xxunk / xxunk xxmaj this pic was taken in the summer when i actually had enough fun to smile even if it was a bit awkward . xxmaj but then again my smiles are always awkward .. ... |||yes . xxmaj in addition to obvious the five lives vs. one argument , the villain intends to kill five other people , so his death should n't be such a great loss to the society . xxmaj and he should know that ... |||me and draculaoverlord were bored and wrote down some type interactions we find amusing . xxmaj most of them include us ( xxup intj & xxup entp ) and thus it makes sense to post these in the xxup nt forum . xxmaj note that some ... |||this applies to me too when it 's not a good friend in question ( but i typically just feel like slapping them ) . xxmaj for example we have this one xxup isfj girl in our class who pretends to be really sweet and ... |||lies , lies , lies ... xxmaj waiting for an introvert to tell their opinion is just as useful as waiting for porifera to do so.|||if i were an xxup intp i would n't preach extraverts about communication and talking since that 's something you have only read about.|||well my classmates see me as warm and bubbly , but when they 've done the test for me they usually get xxup estj ( which really pisses me off ) , xxup entp and xxup intj . xxmaj one of my friends even got xxup esfp which i really ... |||so you decided to ignore rest of my message ? xxmaj this incapability comes apparent in social interactions but is not caused by them . xxmaj because no one can see inside another 's mind so in order to know what ... |||the study of the psychopath reveals an individual who is incapable of feeling guilt , remorse or empathy for their actions . xxmaj they are generally cunning , manipulative and know the difference between ... |||entjs are identified as psychopaths based on their interaction with other people . xxmaj the reason intps are not as often diagnosed with this condition is the fact that no one has been able to gather such ... |||well , i do n't know how you entps raise puppies , but i have a hard time imagining a dog trained by an xxup entj pissing on my precious 23 000 e office carpet when i turn my back . xxmaj and most of entps are ... |||everyone who bonds with people better than porifera . xxmaj but i guess intps can not quite see the difference between extraverts and carnivores so no wonder you are scared . xxmaj we understand . xxmaj but do n't worry, ... |||oh , it 's pretty simple actually . xxmaj just nod and smile every half an hour and entps will be moved by the attention . xxmaj kind of like puppies , absolutely adorable . xxmaj smell typically a bit less though but there ... |||no , but i do n't need such a limited function to pollute my mind . xxmaj another reason why we entjs have you entps as our xxunk , not blood . i have a storage of porifera just for intps : they need it after they finally gather enough courage to attend a party and throw up due to being surrounded by so many actual ( note : not ... ',xxbos ' xxmaj emm ... i 'm not going to disclose it here . xxmaj and the poll is not over yet . xxmaj but you can ask me in xxunk to take it personally . xxmaj imagine a family . xxmaj parents tried to create a child numerous times for 4 years , and finally they did it , but wife was told that her health is not going to handle another ... xxunk beg that only sjs answer this poll . xxmaj similar poll is found in your forum , if you are different . xxmaj imagine that the xxup u.s. is preparing for the outbreak of an unusual xxmaj asian disease , which is expected ... xxup |||i beg that only nfs answer this poll . xxmaj similar poll is found in your forum , if you are different . xxmaj imagine that the xxup u.s. is preparing for the outbreak of an unusual xxmaj asian disease , which is expected ... |||this thread does n't seem to be xxunk , i 'd go for the 2nd , because i think that it 's unfair that different people under same circumstances get different xxunk so xxunk ) xxmaj there is going to be another poll for xxunk . xxmaj otherwise , as you said , the war would take too many lives , many more than two bombed cities . xxmaj moreover , about radiation . i know this sounds very stupid , but due to the radiation some ... |||for me , it depends on the type of metal and the methods used . i like : heavy metal , power metal , some glam metal ( when music is placed first , but not the show . i do n't like xxmaj kiss , for example ) xxmaj and i ... xxup |||i beg that only sfs answer this poll . xxmaj similar poll is found in xxup nt forum , if you are one . xxmaj imagine that the xxup u.s. is preparing for the outbreak of an unusual xxmaj asian disease , which is expected to kill ... xxup |||i beg that only nts answer this poll . xxmaj similar poll is found in xxup sf forum , if you are one . xxmaj imagine that the xxup u.s. is preparing for the outbreak of an unusual xxmaj asian disease , which is expected to kill ... |||my friend lost his dad in the childhood ( when he was like 11 : sad : ) . xxmaj he was very outgoing before that , but later my friends and i had trouble getting him to go out with us . xxmaj not right after the ... |||no , learning disability is very correlated with low xxup iq . xxmaj what you mean is probably , xxmaj einstein 's example . xxmaj but he , as most extremely intelligent people are simply not interested in the education given at ... |||my parents helped me a lot and still help me : shocked : xxmaj but that 's obvious . xxmaj personally , i do not like to get any kind of help in the areas i feel i 'm strong . xxmaj if i am in need to ask for help in ... |||learning abilities depend more on the intelligence . xxmaj on average , intjs are a little more intelligent than intps , so on average we learn xxunk do feel this way . xxmaj during the childhood i spent a lot of time attending clubs like chess , music , karate , tennis , xxunk dislike the way everyone uses the cat , but i like the second top comment on youtube : xxunk still , has no one tried to falsify it yet ? i mean , has n't anyone tried it xxunk to program smth you need to think about how would the computer interpret it . xxmaj you also have to keep in mind that it should not contradict other stuff in the program . xxmaj and so on . xxmaj do you have ... |||it 's the other way around too . xxmaj half of the 2 % are intjs and intps . xxmaj basically , intjs and intps are only 5 % of overall population , but on the other hand they are xxup half of the 2 % of the smartest xxunk i 'm in the exactly same situation . xxup but ! xxmaj it 's because i changed the country i live in . i have a couple of friends ( xxup entj and xxup intp ) in the other place i live in . xxmaj and we do talk to each ... xxup |||i do n't think about killing them . xxmaj but i do want to take control of them , especially by not having them understand so : tongue : : shocked:|||hi ! xxmaj may be this question was asked many times here . xxmaj but recently i came across a point of view that states that xxup mbti is not scientific , since it is not falsifiable . ( xxmaj karl xxmaj popper 's suggested criterion ... |||the existence of intelligence is kind of unfair . xxmaj most of our intelligence is pre - decided before our birth . xxmaj so it 's like race or sex . xxmaj but , what 's interesting here , is that this unfairness is one of ... xxup xxunk xxunk , and i 'd say many intps also share this xxunk you are overemotional , why are you xxup intj , not xxunk intjs that 's not a superiority complex . xxmaj it 's just a fact , we are superior : shocked : xxup btw , concerning intelligence levels . a random xxup intj has a probability of 22 % to be in top 2 % of those ... |||and so what?|||i would n't say that s are better than n in math . xxmaj if two absolutely equal people are before us , one is an s type , and the other one is an n one ( especially xxup intx ) , and they have exactly equal ... xxup |||i like xxmaj sneakers the most , but i ate them too much recently , so i now buy xxmaj mars . xxmaj when i was a child i liked xxunk is a gift from xxunk ) xxmaj basically , i do n't have wi - fi in my room ( i live in college ) , so i use internet connection on the phone while i 'm in the bathroom : tongue : xxmaj then i do the same ... xxunk ... try looking for a temporary job to get going , and then i 'd say , try restarting the business : unsure : xxmaj analyze what you did wrong this time and do that again the next xxunk you lost half a year of having a best xxunk ) i think that most xxmaj introverts are approached xxunk as i said - talking has to be done hundreds of times . xxmaj not just talk to him / her . xxmaj this is no help at all . xxmaj and actually , people express what they feel not only by talking . xxmaj they express it via ... |||intjs are awesome ! xxmaj and they are awesome , because they are rare . xxmaj so you would better be an xxup entj : shocked:|||you know , the humor between me and my friends ( xxup entj and xxup intp ) differs completely from what i would joke with others . nts get the point straight away . xxmaj if we see a crescent , and i say so that 's a half ... |||guys . xxup talking xxup does xxup not xxup change xxup the xxup behavior xxup at xxup all . xxmaj if you are not a super - psychologist with hundred years of life experience and the ability to understand every person , you xxup cannot change a person ... xxup |||omg xxup omg xxup omg i 'm in the exact same situation ! xxmaj luckily i am abroad , but whenever i come home he makes me do so much stuff , which i see no point doing at all . ( xxmaj like going to the other house and do the ... |||i'm perfectly fine with these temperaments . i think that i 've got much more things to discuss about with xxup nt 's ( not only here , in reality my friends are xxup entj , xxup intp , xxup intp , although they are much rarer ... ||| xxrep 46 + xxmaj so true!|||i only remember special stuff . i do n't remember what i ate the day before yesterday . xxmaj on xxmaj lumosity in the memory matrix game i went till the very end though , memorizing all of the xxunk shows in my notifications that you quoted me . xxmaj probably you then edited your post . xxmaj but the xxmaj mensa itself says that it exists to make intelligence work towards the xxunk quite happy to be the king of no matter what : tongue : but on the other hand , how would intps feel to be our pages ? : shocked:|||it 's getting to a conclusion by not knowing how you got to xxunk do you xxunk got an answer which is 4 letters longer , but it suits the best ',xxbos ' xxmaj hmm ... an interesting thought . xxmaj but then what about the masses of ignorance who have loads of money for that very reason , and that reason xxunk is not a word , noun or otherwise . xxmaj convention is improperly used as a noun . xxmaj benefits was both correctly used and a noun . xxmaj what xxup was the point of your post ? i can understand sticking ... xxup |||i think the key here is respect . xxmaj it may also come down to how you are a jerk . xxmaj being assertive and telling people what you think of them can be a good thing , and does not xxunk make you a ... |||welcome ! xxmaj indeed . i know the feeling of trying to find someone who challenges you , and meets your ideals . i think that is a problem for all entjs . xxmaj people who lack the breath of life and show no ... xxup |||i disagree with all of it . xxmaj this is all only my opinion ... xxmaj first , i do n't believe that an object itself can be evil ; it requires outside influence from a being capable of deciding between good and ... |||so after much beating my head on the keyboard , and debating just how much detail to go into here , i will keep this brief for now ... i see this kind of thing constantly . xxmaj it is partly the reason why ... xxup |||i think that it is wonderful that you have found something that you enjoy so much and feel so strongly about . xxmaj if photography excites you so much , then i can not think of any good reason for you to not ... xxup |||a wonderful introduction . i am glad to hear that you enjoyed learning about yourself , and are satisfied with the results of your test . i felt similarly when i first took the xxup mbti . xxmaj although there were ... |||hmm ... looks like i get first choice : mellow:|||well , the only way you will ever know anything about anyone is if you take the time to get to know them ... or you develope psychic powers ... in the latter case , can i have some winning lottery ... xxunk her like an a$$ will just make her want you more xxrep 4 . xxmaj no ... that was a joke xxrep 4 . i think xxrep 4 . maybe xxrep 4 . i 'll get back to you on this when it is n't xxunk ... that was indeed good . i would give more input , but i do not have much to go on here . i think that if you look hard enough you will find someone who is right for you . xxmaj it just takes time xxrep 6 . |||personally , i believe the purpose of life is to live . xxmaj live each day as if it might be your last , in the way that you would want to be remembered . i think being alive is its own reason for living ... |||semantics aside , i would say whether it is right to do depends on your intentions for the manipulation , and the specific situation . xxmaj obviously there is some merit to saying that other people are ... |||we could always just throw a bunch of them together and make smoothies : cool:|||that does tell me a little bit more , yes . i too have had experience with people saying that they would rather have you tell them like it is , only to have them baulk when you do n't say what they ... xxup |||i find awareness in other people to be a wonderful thing . xxmaj it is always more fun when someone else notices the things i do , or even notices things that i miss . xxmaj it can make for some very interesting ... |||and what i said was xxmaj perseus said it was like animal sensing xxrep 4 . i am sorry if you feel that i misquoted you . i was referring to the same thing when i quoted you , as when you originally said the ... xxup |||i think i understand a bit better now , thanks . : happy : xxmaj as for your question , i think all people associate things like that , though i ca n't think of anything that has made me sick . xxmaj homesick , yes, ... |||this is why i am confused by the whole sensor / intuition thing ... and probably why i ended up with my own definition of intuition . xxmaj to me ... intuition is part of your senses . xxmaj perseus said it was ... |||agreed . i find this interesting and would like to know your xxunk and welcome . i would n't mind visiting xxmaj paris xxunk ... i do n't quite understand where you are coming from with that . i do not think that there is anything wrong with reminiscing about the past , whether it be bad or good memories . xxmaj that is part ... |||intuition is the process of being entirely in the present moment , and in tune with both yourself and your surroundings . xxmaj it means using your senses to their fullest potential , and not being bogged ... xxunk may soar , but ferrets do n't get sucked into jet engines i know ... completely random , but i could n't xxunk ... i love the rain : cool : xxmaj anyway , xxmaj hello and welcome to the xxunk of ridiculous action movies and xxmaj jason xxmaj statham , has anyone else seen the trailer for xxmaj crank 2 ? i enjoyed the original ... but seriously ? xxmaj there 's this little thing called terminal velocity xxrep 6 . |||damn people and their auras ... always xxunk me from the matters at hand . xxmaj but i do love a good xxunk xxmaj dandy xxmaj demonic xxunk and welcome . i hope you enjoy your time xxunk xxmaj xxunk xxmaj xxunk - do xxunk and welcome . xxmaj out of curiosity , what seems nice about this xxunk xxmaj xxunk , and welcome to the forum . xxmaj best of luck to you in finding what it is that you search xxunk pond comes to mind . i truely do enjoy my solitude , and it bothers me if i have nowhere to go to be alone when i am tired of dealing with the world . i do n't like long periods of isolation ; i ... |||quite possible , as i had not thought of that . xxmaj my mind was going down a completely different xxunk is a great aspiration , and there is nothing weak about it . xxmaj to forgive someone does not mean that they have not offended you , and it does not mean that you will forget about what they ... xxup |||i despise math with a firey , heartfelt passion . i can handle using math in other things ... like chemistry and practical applications ; but math class is like a nightmare for me , and i 'm still not done ... |||sorry , i could n't resist ... xxmaj those pants look great , but you know what would look better on you ? xxrep 4 . xxmaj me ! : wink:|||i have no idea who he is ... a humanitarian , by the looks of it ? i 'm leaning toward e , rather than xxup i. xxmaj just looking at the picture i would have to say xxup enfj . xxmaj maybe i will go do some reading and get ... |||hello and welcome : xxunk - wise i am no different online than offline . i do tend to write more eloquently than how i usually speak , but i attribute it to the people i am around . xxmaj the only thing i dislike about being ... |||generally this is true , male xxunk will only kill other male xxunk ... but not always . xxmaj there is one specific type , of which i do not remember the name , that kills anything you put it in with , but ... |||hello and welcome xxunk i am torn ... all three sound good ! xxmaj thanks for the offer though . xxmaj it is the japanese kanji for xxmaj kishi , which means xxunk . i think i would agree with you about xxunk . i think that people can learn and unlearn certain habits , but their base personality stays fairly constant throughout their xxunk is very sweet , and i think that with a little assistance you would make a wonderful , loving parent . i can understand your desire to protect someone like you have described , and that is why i ... xxup |||i choose neutrality , but there is just something fundamentally satisfying about xxunk darkness ... it is hard to explain , but sometimes ethics get in the way of doing what needs to be done . xxmaj then ... |||do you mean like looking through their eyes , and seeing / interpreting the world the way that they do ? i think that would be really cool ... but then again , i think i would still prefer to sit down ... |||well hello there ! : wink : i have been reading this forum for about a month , and finally decided to sign up . xxmaj rather than just tell you everything , if you want to know more about me , feel free to ... '\n",
       "y: CategoryList\n",
       "INFP,ENTP,INTJ,INTJ,ENTJ\n",
       "Path: .;\n",
       "\n",
       "Valid: LabelList (1736 items)\n",
       "x: TextList\n",
       "xxbos ' i am only sadistic towards other sadistic people . xxmaj when someone gets what they deserve i feel xxunk was nt my intention to insult anyone with that stereotype about xxup esfp 's and xxunk . xxmaj it 's possible to give every xxup mbti type a negative stereotype . xxmaj and i do nt think xxup esfp 's like to sit in front ... |||http : / / uploads.tapatalk-cdn.com / xxunk / xxunk xxrep 4 0 xxunk xxmaj skickat från min ipad med xxunk xxmaj skickat från min ipad med tapatalk|||does anyone know where i can find the picture of the xxup intp guy lifting weights while being extremely skinny ? xxmaj sent from my ipad using xxunk xxup intj = xxunk 's are louder . xxmaj sent from my ipad using xxunk chicken @ xxup bk . xxmaj sent from my ipad using xxunk your head up in the clouds does n't make you smart . xxmaj sent from my ipad using tapatalk|||i do n't envy their social awkwardness . xxmaj sent from my ipad using tapatalk|||i ca n't . xxmaj sent from my ipad using tapatalk|||when you are more interrested in checking xxunk new gadgets on the internet rather than eating . xxmaj sent from my ipad using tapatalk|||you know you are xxup intp when you think you are good at typing people when you actually are nt . xxmaj sent from my ipad using tapatalk|||like things that are rationally obvious , but not emotionally obvious . xxmaj sent from my ipad using tapatalk|||people who argue to win even if they are wrong . xxmaj sent from my iphone using tapatalk|||when you spend your weekend on the internet . xxmaj sent from my iphone using xxunk trying to be something you 're not xxmaj sent from my iphone using xxmaj tapatalk - now free|||i just have to share the stupidest xxup intj joke i have ever heard . i know an xxup intj who has a sister who s son killed his father . xxmaj one day when the xxup intj 's sister and his wife had been out shopping ... |||why does the xxmaj socionics relationship chart work so well with the xxup mbti xxunk had this discussion with several people about some xxup mbti intp´s being xxmaj socionics intj and the other way around but i know xxmaj i´m an xxup intp in both . xxmaj and i know my dual is xxup esfp . xxmaj and the best thing to ... |||what should i do if i am a male xxup intp in a situation like this ? i don´t think xxmaj i´m the only one who has been in this situation . xxmaj in bad situations , would n't esfps just deal blow after blow to xxunk ... xxunk not very practical and clumsy . xxmaj softer voice . xxmaj dreamy . xxmaj esfp . xxmaj want to make jokes . xxunk the best solution . xxmaj or introduce him to an hot esfp and he xxmaj will forget all about you.||| ... when the library was your haven pre xxunk ... when your biggest interrest is gossip.|||when you have three pair of pants in the same model but in different colours . ',xxbos https : / / sphotos-a.xx.fbcdn.net / hphotos - snc6 / xxunk https : / / sphotos-b.xx.fbcdn.net / hphotos - snc7 / 300955_4646391166048_634618449_n.jpg ... xxup |||i am xxunk xxup xxunk am drunk , and i like this.|||https : / / sphotos-a.xx.fbcdn.net / hphotos - ash4 / xxunk https : / / sphotos-a.xx.fbcdn.net / hphotos - ash4 / xxunk ... |||https : / / www.youtube.com / watch?feature = player_embedded&&v = xxunk : / / www.youtube.com / watch?v = xxmaj xxunk : / / www.youtube.com / watch?v = xxunk made me xxunk : / / www.youtube.com / watch?feature = player_embedded&&v = xxunk : / / sphotos-a.xx.fbcdn.net / hphotos - snc7 / xxunk i have a dumb look on my xxunk : / / sphotos-a.xx.fbcdn.net / hphotos - ash3 / xxunk https : / / sphotos-b.xx.fbcdn.net / hphotos - ash3 / xxunk ... xxup |||i would like to live in xxmaj vancouver or xxunk may not respect myself , but for the most part , people respect me . xxmaj probably because i tend to avoid conflict and i get a long with others . i make it a goal to have everyone like me , and i do this by ... |||http : / / www.youtube.com / xxunk = xxunk god yes . xxmaj it created a rift in my first relationship . xxmaj never be apologetic , it makes you seem submissive . i did so because i wanted to avoid conflict of all kind , the easiest way was to say sorry.|||https : / / sphotos-b.xx.fbcdn.net / hphotos - snc6 / xxunk xxmaj not entirely sure if i 've contributed this one before . xxmaj it 's one of my most recents , was doing a photoshoot with my ... |||right on , i can dig that.|||https : / / sphotos-b.xx.fbcdn.net / hphotos - snc7 / 300955_4646391166048_634618449_n.jpg xxmaj xxunk xxmaj on the xxunk since let my mind slow down . xxmaj it sucks : c xxmaj my life got so boring . i do enjoy some good psychedelic rock . http : / / www.youtube.com / watch?v=_jv9ioxup - xxunk , i do n't look anything like you . xxmaj but staring in your eyes , i see myself . xxmaj edit : xxmaj guess who https : / / sphotos-a.xx.fbcdn.net / hphotos - prn1 / xxunk : / / sphotos-a.xx.fbcdn.net / hphotos - ash4 / xxunk https : / / sphotos-b.xx.fbcdn.net / hphotos - snc6 / xxunk idea of a dystopian / pseudo - apocalyptic ( mad - max ) like existence is more appealing to an xxup infp because it resembles the inner workings of our minds . i think i would feel just as comfortable as i do ... |||oh god , it 's like i 'm staring at myself in this picture.|||https : / / sphotos-a.xx.fbcdn.net / hphotos - ash4 / xxunk : / / personalitycafe.com / attachments / infp - forum - idealists / xxunk - xxunk : / / www.youtube.com / watch?v = xxunk = xxunk town xxup usa . xxmaj there was a television show about it . xxmaj pacific xxmaj north xxmaj west ( only 50 miles north of my hometown ) . xxmaj also known as the rose city , has powell 's bookstore and voodoo doughnuts . xxmaj pretty ... |||jealousy is a common occurrence . xxmaj the love of my life left me for a more ' impressive ' person . xxmaj this has left me with insecurities and a desire to improve myself . i 've taken up artisan bread baking so ... |||http : / / www.youtube.com / xxunk description fits the xxunk pick something and go with it . i wanted to be a xxunk . i instead became a nuclear medicine technologist ( am in school currently in the program ) . i see it as a high paying daily job ... |||to be honest . i 'm posting under the influence of alcohol . xxmaj your avatar is amazing . xxmaj just wanted to tell you :))) xxmaj daria is xxunk . xxmaj relaxing music 2 . a hand full of friends ( that i keep very close ) that i can talk to 3 . xxmaj alcohol 4 . xxmaj delicious food 5 . xxunk is the story of my life . xxmaj only she 's not dating anyone at the moment . xxmaj she left me because there was another , more impressive , guy that came into her life that she could n't date . xxmaj that she wants ... |||http : / / www.youtube.com / watch?feature = xxunk xxmaj old romance songs are sad . xxmaj at least this one is nice.|||thanks ! xxmaj that really put things into a new perspective.|||i expect too much from my best friend . i expect her to love me with as much love as i give her xxrep 4 . unfortunately i 've come to realize that it likely wo n't happen . : / |||yeah . xxmaj if only . i think his personality type has a lot to do with why i like the band . xxmaj their music often suits my mood and i 've listened to them enough to the point that i can anticipate the ... xxup |||i just think that it 's not fair for you . xxmaj my reasoning is entirely xxunk course he is , how could he not be ? http : / / www.youtube.com / watch?v = xxunk xxmaj showing his personality . xxmaj and a total xxunk documentary about the band : ... |||http : / / www.youtube.com / watch?v=_jv9ioxup - xxmaj u&feature = xxunk 's an infatuation . xxmaj if i were in you , i 'd put him in between a rock and a hard place . i 'd tell him to choose between the two of you.|||if i were to guess , you 're willing to enter into a polyamory because you care deeply for him and you would n't want to become separated from him . xxmaj are you sure your partner is not just infatuated with ... |||take the time to rediscover yourself . xxmaj maybe the answer you are looking for has been right under your nose the whole time.|||i would n't necessarily say it 's something to get help over . xxmaj she 's still a functioning and healthy human being . xxmaj it 's these emotional swings that have me puzzled . xxmaj it must be the nature of my ... |||does your friend deal with a lot ... in terms of stress ? xxmaj my person has a lot of school work , work work , and family stuff ( shit ) she has to deal with . xxmaj worst of all , she attempts to manage all of this ... |||because i act like i 'm my own god damn unique snowflake and i like it that way.|||a dear friend of mine has ( i 'm convinced ) borderline personality disorder . xxmaj she told me she was diagnosed with some personality disorder a few months back but i did n't really care . i mean , why should ... |||daniel xxmaj craig and xxmaj rooney xxmaj mara hands down .,xxbos ' xxmaj yeah the 80s are really an xxup entp goldmine . xxmaj we usually like super cheesy or super dark and deep . a lot of entps might act like that they only like that deep dark stuff but honestly we xxup love super cheesy ... |||this thread is for you to vent on the type of people you hate ... i hate you ! ! xxmaj person who brings 40 items through the 10 items or less supermarket lane ! ! xxmaj ahhh that is sooo annoying , you ca n't be ... |||actually i will relay this because it was funny . xxmaj his grandfather asked him now that he is eighteen what rights does he have ? xxmaj he said , xxmaj well , i have the right to vote now but there is n't anybody worth ... |||funny this thread became active just now , xxmaj he turned 18 today . xxmaj so , i can take him to a strip club now ! ! hahaha . intjs are funny they take everything so seriously . xxmaj the main point is i am worried the ... |||still pulling from the karate kid pool of cheese , breaking out the cheez whiz ... https : / / www.youtube.com / watch?v = xxunk have to admit i am sucker for cheesy songs . i wanted to start a thread so everyone can reply with their favorite cheesy song . xxmaj however , the cheesy song should be a song you know that is cheezy but ... xxunk number one quality i look for in a person is kindness . xxmaj not kindness by default of lack of understanding , but true kindness . xxmaj in this day and age true unselfish kindness is the rarest quality xxunk should watch the documentary about my penis , it is really short . : xxunk as taught is a very simple form of what i believe to be true evolution . xxmaj darwin was able to figure out his theory by going to a remote island that allowed less variables to effect the ... |||wow that is pretty impressive . i always found math to be boring and cool at the same time . i actually never took it as far as i should of because , well it can be boring . i remember in my younger ... |||please explain ? i would think that ruling out any definition of genius would open up discussion . xxmaj so you are saying if i require an xxup iq score of 140 + that would be better ? xxmaj genius ca n't be xxunk ... |||great post ! xxmaj perfectly describes what i think most highly intelligent people feel . xxmaj the hopelessness of the future of mankind when understanding that the solution is impossible when dependent on the ... |||you misunderstand my post . i respect your intelligence . i just want you to feel free to dump your ideas . xxmaj honestly i really want to hear your ideas , truly ! xxmaj however , it seems you have been conditioned ... |||does not learning about the ideas of great philosopher and tearing them down not motivate you to come up with new better ideas ? i think that is basis of every new idea . xxmaj questions continues ... |||man i get it . xxmaj it is lonely being genius sometimes . xxmaj the fact that you are desperate to talk to someone who might understand you is intoxicating . xxmaj however , xxmaj read my last xxunk submissions , xxup imo , are just repetitive . xxmaj you use complicated language / semantics to repeat the same idea . xxmaj confusion of intelligence . i understand you are probably feeling a little alone ... |||you ca n't understand why i created this thread , i totally believe that . xxmaj honestly , i was aggressive to weed out people who did n't truly believe they were genius . xxmaj most people with genius ideas are ... |||your replying with aggression to a genius thread is insecure . xxmaj this thread is not trolling but trying to weed out unwanted replies , obviously i have failed.|||i do n't know if i am genius however i find myself alone when discussing my ideas . xxmaj for example , i think dark energy is probably a living thing that ca n't be defined yet because of our lack of ... |||actually that reply was n't directed at you . xxmaj you actually provided a valid point . xxmaj also , saying you are genius at being yourself is actually more inline with the point of this thread . i think a lot of ... |||then why reply to this thread ? xxmaj also , i believe you are correct that most people do n't think are geniuses but like to portray they are , mainly the xxunk why i said i did n't want a definition of genius just reasons why the poster thinks they might be genius . i am sure if a fish thought he was genius he would not reply that he thinks his / her ... xxup |||i love how everyone indirectly implies they are genius on this site , but everyone runs with their tails between their legs when challenged to just provide some experiences of your genius.|||i am sorry you are insecure . xxmaj you do n't have to prove anything to me , actually i prefer people like you with nothing to add to not even reply . xxmaj last i checked , i did n't force anyone to xxunk was implied that any response was the poster 's definition of genius . i said i did n't want the definition of genius . i just wanted anyone 's past experiences that they feel demonstrates genius or ... |||seriously ? i do n't want your definition of genius , i want your personal ideas that define you as genius . i figured i would get these replies . xxunk can you login as your genius and give a reply of some substance ? i know i come across as patronizing but i really would like subjective , non judgemental replies of personal ideas that the ... |||wow , what a great thread . xxmaj as a musician who believes true music is about feeling the song ... i humbly submit these .. https : / / www.youtube.com / watch?v = xxunk - xxunk ... |||step up ! ! ! i 've read your xxunk i smell the undertone of stank pretentious . ) i have already read the replies to this post about defining genius and the quantification of intelligence , no ... ||| ... with a spreadsheet and a xxunk xxunk am not sold you are xxup entp but i do understand how an xxup entp can have the emotions you have described . xxmaj however , xxup imo , they really are n't your emotions / feelings . entps seem to have such a high empathy ... |||oh , one more thing , if she is a true xxup entp 4w5 you ca n't catch her . xxmaj meaning , give up on defining her , putting her in the box , trying to guess her next move . xxmaj you will be trying to catch the wind . xxmaj the ... xxup |||i am an xxup entp that is also 4w5 . xxmaj personally , you probably hit the nightmare jackpot , lol . xxmaj basically , an xxup entp 4w5 is borderline insane . xxmaj we are entps with raging creativity . xxmaj it is a bad combo , basically ... |||an xxup intj accusing another type of not having feelings ? ? i have heard it all xxunk went to this site called perc and clicked on a thread about what 's the most untraditional way you 've met a friend ? thread , and my reply was so witty and funny that the next morning i logged into ... |||easy entjs . i hate their rules , i hate their close - minded ideas , i hate their bad uptight sense of humor , and what i hate most of all , is that the majority of them have above average intelligent yet ... |||wow , your entjs ' responses are just sad . xxmaj all this time i thought your rigid exterior lent to a crazy life changing sexual experience . xxmaj well , at least we still have that tasty martini . : perc2:|||https : / / www.youtube.com / watch?v = xxunk ... https : / / www.youtube.com / watch?v = xxunk xxunk together is such an idiotic thing ! ! hahahaha i really ca n't explain how counter - productive it is to classify a gifted child . xxmaj it sounds s xxrep 4 o hippie but a gifted child needs to ... xxup |||i am always super intrigued and super suspicious of any xxup entp with a sexy avatar . xxmaj it really is n't an xxup entp trait to be upfront sexy , it is always a confident undertone that is subtle . xxmaj are you sure you ... |||actually infps are great when in comes to this sort of stuff . xxmaj verbal apologizing is honestly not the best way to go with an xxup infp . xxmaj in my experience the best thing to do is lay down an action of ... |||actually this thread is very personal to me , if you actually have a gifted child , especially an xxup entp gifted child , the best thing you can do is take them out of structured education . a gifted child ... |||being afraid of romantic or platonic relationships is a bad trait . xxmaj people are one of more complex things you well ever experience . xxmaj being gifted , xxup imho , is trying to explain the unexplained . xxmaj mixing ... |||honestly the problem is that entps are like every other type , we are all at different levels of self actualization . xxmaj however , unlike other types , entps progress through the different stages at ... |||close , but replace rhinestones with rhinoceros and i think you are well on your xxunk xxup infp helps ... ||| < xxrep 5 - pours gasoline all over this thread then eats a box of matches . xxmaj drinks 5 more shots . xxmaj waits 10 minutes , then pisses all over this thread and laughs as it is set ablaze ! ! : kitteh:|||i know i am xxup entp because i hate this thread and all the other types started a petition to not allow me to select any other type . xxmaj the mods actually disabled my xxunk to select another type . ',xxbos ' xxmaj hey thanks for the resource head 's up . xxmaj if you go the traditional route , then yes you have to find an agent to help you connect with a publishing company and they 'll hook you up with an editor xxrep 4 . |||hey guys . i 'm working on releasing my first novel xxmaj xxunk very soon . xxmaj xxunk is a young adult fantasy series that has an entire xxup mmorpg world built behind it . xxmaj the problem is paying for the ... |||hey guys . i 'm wondering if any of you have self - published a book and how you dealt with paying for the copyright , xxup xxunk numbers , cover art , and etc . xxmaj also , do you sell through xxmaj amazon in e - book xxunk ... |||that 's something that i 've been curious about . xxmaj back in my high school days we had xxmaj myspace . xxmaj yeah , i 'm a fossil . xxmaj how do people start beef online ? xxmaj is it with facebook ? i need more xxunk else mentioned having to see the school psychologist about not expressing herself . xxmaj some of the stuff that i 've read on this thread is so crazy that it sounds like it could only be the work of ... |||by the way everyone , my friend just told me about a documentary called xxmaj the xxmaj war on xxmaj kids today . xxmaj it can be seen on youtube . i did n't even get past the part on zero tolerance policy before i couldn't ... |||in my school there was the honors program and the regular program . xxmaj the honors classes were generally harder and the best students were primarily in those . i thought that it was standard practice to ... xxunk xxmaj first off : http : / / images.wikia.com / the - house - of - anubis / images / 3 / 30 / xxmaj xxunk xxmaj that is life as a middle child . xxmaj people are often dismissive about my acute middle child xxunk ... |||when i was in the second grade , i took a realistic looking toy gun to school . xxmaj the safety patrol caught me and xxunk me out to my mother . xxmaj the school did n't do anything to me at all , but my mother did ... |||huesos xxmaj thanks for that post . i had never heard the term xxunk before . xxmaj the picture you labeled morena is basically what i had in mind when i think of the term morena . i would n't call a ... |||well i need to marry a xxmaj mexican woman then . xxmaj there is a xxmaj spanish xxmaj catholic church in town . xxmaj it 's a bit far from my house and i do n't know anyone there , so i 've never been there . xxmaj it 'd be a good place to ... |||yeah that 's the problem . xxmaj it 's such a vastly complicated topic . i wo n't be able to do it perfect justice since there 's an array of different characters with different problems to cover , but i want to ... |||the xxmaj pageant of xxmaj world xxmaj history ? xxmaj that does n't even sound real . xxmaj who would name a history book that ? xxmaj you make your school sound like something out of the movie xxmaj the xxmaj xxunk . xxmaj were those the regular ... |||isn't it an socio - economic thing ? xxmaj since people really look down on illegal immigrants and are quick to think that any person with xxmaj latin features might be an illegal immigrant ? xxmaj also xxmaj mexicans are easy ... |||teachers get abused in this country . i want to pull my fro out whenever i hear teachers being scapegoated as if the poor state of our education system is their fault . xxmaj being a teacher is a sacrifice xxrep 4 . |||which race would that be ? xxmaj people said some messed up stuff about you . xxmaj it really degrades them more than you though . xxmaj people speaking bad about others only shows their self - centeredness and their lack ... |||dude ! i just now looked at your profile xxunk . xxmaj this whole time i did n't know that you were a girl . xxmaj that 's a horse of a different xxunk i think i get it . i actually spent three months living in xxmaj salvador da xxmaj xxunk , xxmaj brazil . xxmaj there , almost everyone was what one would call xxunk . xxmaj there was only one morena and i kind of ... |||yes it is helping . xxmaj the character xxmaj xxunk represents the xxmaj american born xxmaj mexican . xxmaj she sort of distances herself from her xxmaj mexican heritage to shield herself from anti - xxmaj mexican insults . xxmaj julio is the ... |||huesos xxmaj that 's weird . xxmaj do you mean black people or just really dark skinned xxmaj xxunk ? xxmaj you know , there are light skinned xxmaj xxunk that practically look white like xxmaj xxunk , then ones with the olive xxunk ... |||wamphyrithrall xxmaj that 's very interesting . i can sort of relate to that as an xxmaj african xxmaj american as opposed to xxmaj american xxmaj africans . xxmaj although i think the situation between xxmaj mexican xxmaj americans and xxmaj mexican ... |||haters gon na hate . xxmaj you do n't seem too bothered by it xxunk xxmaj picking on special needs children is just messed up . xxmaj back in high school , one kid whom at one time i had considered a friend , threw a basketball at a special needs kid . i think he had a lot ... xxunk xxmaj yes practice makes perfect . xxmaj do you ever do short stories ? xxmaj some of the ways that i practice different points of view , voices , vocabulary , and presentation styles is through short stories . ... |||ah yes the uniforms . i got out a year or two before uniforms became prevalent . i spent 7 months teaching xxmaj english in xxmaj france and totally had favorites amongst the students . xxmaj it 's kind of hard not to xxrep 4 . |||meltedsorbet xxmaj man you make me want some authentic xxmaj mexican food . i do n't think i 've ever had xxunk exactly . xxmaj how do you feel about xxmaj mexican xxmaj american self - hatred and about xxmaj mexican xxmaj americans taking ... xxunk xxmaj congratulations on finishing your book . i just recently finished one myself , but i want to self - publish it so that i can keep the copyright to it . xxmaj the one that i 'm doing research for ( topic ... |||my white xxup infj friend keeps accusing me of not being black . xxmaj it 's starting to annoy me and i may have to get ghetto on her so to speak . i think the reason that she thinks i 'm not black is because she's ... |||yeah i know what you mean meltedsorbet . i find it difficult to write from the perspective of female characters . xxmaj not that i ca n't do it , but if feels kind of inauthentic . i do n't think that i 'll have ... |||how about one 's that are martial arts / fantasy novels with combat akin to xxmaj street xxmaj fighter ? xxmaj bullying is only one aspect of it , but it 's a pretty standard experience of high school so it has to be in xxunk i see . xxmaj that 's kind of hard to work into a book though . xxmaj do you ever experience this cyber bullying business . xxmaj do people burn on each other on facebook ? xxmaj what if a kid got beat up , people took ... |||aubbs xxmaj what role do sites like facebook and twitter play in the lives of the students at your school ? xxmaj back when i was your age , the big thing was xxup aol xxmaj instant xxmaj messenger aka xxup aim . xxmaj how do people talk ... |||i've done some work on composing the character xxmaj xxunk . i 'm open to any comments , suggestions , or corrections . i will do the character xxmaj julio later . xxmaj xxunk xxunk xxmaj problem : xxmaj xxunk is ... |||yeah i know how that is . i live in xxmaj nashville , xxmaj tennessee . xxmaj while xxmaj nashville is a major metropolitan city , many of the surrounding counties are not . xxmaj whenever i see a rebel flag , i worry about getting ... |||that is a brilliant idea meltedsorbet . xxmaj instead of focusing solely on negative stereotypes , i could also include things that people are not expected to be . xxmaj and i know exactly what you mean about just ... xxunk . xxmaj what happened that made it that bad ? xxmaj was it bullying , not fitting in , bad teachers or what ? xxmaj unlike a lot of people here , i actually had a few good moments in high school . xxmaj in fact , my ... |||if she meant college , then i could agree . xxmaj wait , you 're xxmaj english are n't you ? i noticed you say mum . i mean university . xxmaj uni is awesome . xxmaj when people ask why are you quiet , you should tell them , xxmaj we ... |||yeah i 'm like that too . xxmaj it everyone were then we 'd have world peace overnight . xxmaj are you a xxmaj type 2 in the xxunk xxmaj wow , that is some racist stuff . xxmaj although i find it ironic that the xxmaj portuguese are trying to call a xxmaj chinese person stupid . xxmaj they had better check the current state of the world again xxrep 4 . |||no , she 's a normal lesbian , but a cross dresser . xxmaj the strangeness of the way she speaks and dresses distracts people from the fact that she 's a lesbian . ... xxmaj she 's a normal lesbian ? xxmaj what am i talking ... |||huesos xxmaj no xxmaj samuel a.k.a . xxmaj samantha xxmaj mae xxmaj west is an openly lesbian student who dresses and speaks like a 1920s gangster . xxmaj she figures that if she displays a weird eccentric personality , then people will ... |||but it is the purpose of the book is what i am saying . xxmaj samuel the xxup lgbt student gets made fun of for being a lesbian , xxmaj lee who is xxmaj korean and has aspergers gets called a xxunk amongst other things , the ... |||huesos xxmaj well see there , that 's exactly why i thought that i had better ask . i 've known people from xxmaj nicaragua , xxmaj guatemala , and xxmaj spain , but i do n't really know any xxmaj mexican people . xxmaj but as this story is ... |||yes good point . xxmaj it 's a school with a lot of international students . xxmaj technically , they would n't get too much grief based on ethnicity . xxmaj but that 's technically . xxmaj the point is to mirror the actual ... |||i'm doing the planning work for a novel that i will soon be writing about the misfit students in a high school of applied martial arts . xxmaj there 's fighting and energy xxunk and all that stuff , but ... |||hey thanks . i took a lot of that down . xxmaj back in my day ( 2003 ) , we did n't have the facebook , or the twitter , wifi cellphones , or all of this other newfangled technology . xxmaj shoot , back then we still had ... |||if it makes you feel better , i was once the suspect of a bomb threat in middle school . xxmaj but it was n't me , it was one of the other quiet xxunk had to go to the counselor 's office for being quiet ? i get what you mean by labeling . xxmaj by segregation are you referring to different cliques or like to literal old school racist segregation ? i ... |||what was so bad about xxmaj jane ? xxmaj thanks to you i now have xxmaj tom xxmaj petty 's xxmaj last xxmaj dance with xxmaj mary xxmaj jane stuck in my xxunk you mean that you pretended to be more like everyone else rather than being your true self ? xxmaj what do you mean by not becoming what you could have ? ',xxbos xxmaj also , i noticed that you created an account on xxunk . welcome!|||i agree with this . xxmaj as a 2002 born i do n’t think i lean one way or another because i spent 5 years in the 00s and 5 in the 10s . xxmaj and when i listen to songs from the years 2006 - 2013 i tend to get ... xxup |||i was born in 2002 and i consider myself an ultimate late 00 's / early 10 's hybrid kid . xxmaj since my childhood ended in 2014 , that means that i will spend all the second half of the 2010 's ( 2015 - 2019 ) as ... |||did you just bump this xxunk xxmaj xxunk said , early 2010 's peaked in the 2011 school year , or 2010 - 2011 school year . xxmaj when i think of the early 10 's i usually think of the electropop era . xxmaj electropop was still popular then ... |||i'd say the 2010 - 2011 school year was the peak of early ' 10 's and 2014 - 2015 school year was the peak of mid 2010 's culture , xxunk believes we are still in 90 's culture is clearly living under a rock.|||i ca n't even remember what i wore xxunk it should just be 13 + . i do n't see what 's wrong with teenagers joining this forum but then again i only joined this year . xxmaj so i still do n't fully know this website xxunk thread has me like : xxup xxunk feel like i 'm an early z for some reason lol . i do n't consider myself xxmaj gen y but i do n't feel like i 'm the peak of gen z xxunk speaking , the exact start of the mid 90 's would be xxmaj may 1 , 1993 . xxmaj so it 's both early and mid but it 's mostly xxunk his other post , he said that the c / o 2020 was the first core z class . xxmaj now he 's saying the c / o 2018 is the first 100 % z class . i think it 's safe to say that he definitely describes my signature ... |||couldn't agree more . xxmaj age 5 was when i felt like my childhood truly started , and i was getting into kids stuff at that age . xxmaj age 11 i was already graduating from xxmaj elementary , and i was headed into ... |||well , that 's exactly why i 'm equally both , because i spent the first half in the 2000 's and the second half in the 2010 's . xxmaj and my birthday is in xxmaj april so i was 8 for most of xxunk guy needs to chill tbh . xxmaj he 's telling xxunk he ca n't be on here cause he too young . xxmaj but i 'm just saying that as long as he is mature enough and does n't start flame wars then he 'll be xxunk is allowed to have his own opinion.|||i've never seen him get picked on just because of his age , and he 's been here for about three months now . xxmaj also , you are only two years older than him . xxmaj that age gap is n't big in the grand scheme of ... |||maybe it 's because he is mature , and does n't get into arguments or start flame wars . xxmaj and he 's xxunk 13 five months from now . xxmaj like what xxunk said , i 'd give him a xxunk agree . xxmaj he probably wo n't be online for a long time tho . xxmaj idk why.|||i remember first joining this website i was never asked to give out my birth date . xxmaj that was after i created the account . xxmaj and even then it 's optional . i 'm not sure what would happen if you set it to ... |||i'd say as long as he is mature enough and does n't get into any flame wars , then he 'll be fine . xxmaj he 's pretty chill xxunk : / / personalitycafe.com / generation - z - forum / xxunk - z - xxunk xxmaj just go to that thread . xxup op ( xxup aka my friend irl ) was born in 2003 . xxmaj july to be exact.|||i was born in 2002 so i 'm still older than you xxunk than planet xxmaj earth . xxmaj just kidding . i 'm 15 lol|||thanks lol . i kinda like xxunk a bit more than xxmaj personality xxmaj cafe when it comes to talking about xxmaj generations . i feel like the community there is more friendlier for some xxunk , i feel more comfortable using the simple 3 - 12 definition since i think it 's the easiest way and i 'd say my core childhood for me was ages 5 - 10 which is why i think i 'm an ultimate late ... |||sorry , but i do n't agree with this . xxmaj as a c / o 2020 member , i would not consider myself an outright 2010 's kid . i consider myself equally a 2000 's and 2010 's kid . xxmaj period . xxmaj not leaning 00 's or leaning ... xxup |||i agree . i 'm a sophomore in high school and i can easily relate to the xxmaj seniors ( the one 's born in 2000 ) i was born in xxunk grade is basically another version of 6th grade just new classes and learning new stuff so it 's not even that different . xxmaj you 'll be xxunk lmao|||i'm older than all of you guys xd and xxunk , i was born in 2002 and i do consider myself a 2000 's kid . 2000 's were the xxunk of like my other thread but now we 're ranking the years in music from best to worse . xxmaj here 's what i think : 1 . 2011 2 . 2010 3 . 2012 4 . 2013 5 . 2015 6 . 2016 7 . 2017 8 . xxunk for 2002 ; ) xxunk xxmaj only xxup xxunk players will xxunk three years late . i consider myself equally a late 2000 's / early 2010 's kid and a mid / late 2010 's xxunk response ever.|||https : / / www.youtube.com / watch?v = xxunk xxmaj generation x span according to this website 's definition is only 11 years long . xxmaj they need to fix it.|||no i 'm talking about your 13th birthday not your 12th xxunk months . xxmaj ai n't long from now . xxmaj happy extremely extremely early birthday xd|||you guys talk like this is a role - playing game on xxup xxunk and 2010 were definitely my most peak childhood xxunk 's like a person born in 1997 calling themselves a 2000 's baby even though they were a kid for every single year in that xxunk 's how i feel as a 2002 born i 'm not an outright 2000 's or outright 2010 's kid . xxmaj it 's like the last true 2000 's kids are a year older than me and the first true 2010 's kids are a year younger, ... |||i'm 15 , but i 'm not really that into xxup mbti types . i 'm usually here for the generation stuff . xxmaj it told me i was an xxup isfp xxunk is as far away as 2020 . xxmaj also as of today , xxmaj april 1 , 2015 , is as far away as xxmaj january 1 , 2020 .\n",
       "y: CategoryList\n",
       "INTP,INFP,ENTP,INFJ,ISFP\n",
       "Path: .;\n",
       "\n",
       "Test: None, model=SequentialRNN(\n",
       "  (0): MultiBatchEncoder(\n",
       "    (module): AWD_LSTM(\n",
       "      (encoder): Embedding(60000, 400, padding_idx=1)\n",
       "      (encoder_dp): EmbeddingDropout(\n",
       "        (emb): Embedding(60000, 400, padding_idx=1)\n",
       "      )\n",
       "      (rnns): ModuleList(\n",
       "        (0): WeightDropout(\n",
       "          (module): LSTM(400, 1152, batch_first=True)\n",
       "        )\n",
       "        (1): WeightDropout(\n",
       "          (module): LSTM(1152, 1152, batch_first=True)\n",
       "        )\n",
       "        (2): WeightDropout(\n",
       "          (module): LSTM(1152, 400, batch_first=True)\n",
       "        )\n",
       "      )\n",
       "      (input_dp): RNNDropout()\n",
       "      (hidden_dps): ModuleList(\n",
       "        (0): RNNDropout()\n",
       "        (1): RNNDropout()\n",
       "        (2): RNNDropout()\n",
       "      )\n",
       "    )\n",
       "  )\n",
       "  (1): PoolingLinearClassifier(\n",
       "    (layers): Sequential(\n",
       "      (0): BatchNorm1d(1200, eps=1e-05, momentum=0.1, affine=True, track_running_stats=True)\n",
       "      (1): Dropout(p=0.2, inplace=False)\n",
       "      (2): Linear(in_features=1200, out_features=50, bias=True)\n",
       "      (3): ReLU(inplace=True)\n",
       "      (4): BatchNorm1d(50, eps=1e-05, momentum=0.1, affine=True, track_running_stats=True)\n",
       "      (5): Dropout(p=0.1, inplace=False)\n",
       "      (6): Linear(in_features=50, out_features=16, bias=True)\n",
       "    )\n",
       "  )\n",
       "), opt_func=functools.partial(<class 'torch.optim.adam.Adam'>, betas=(0.9, 0.99)), loss_func=FlattenedLoss of CrossEntropyLoss(), metrics=[<function accuracy at 0x7f03305264d0>], true_wd=True, bn_wd=True, wd=0.01, train_bn=True, path=PosixPath('.'), model_dir='models', callback_fns=[functools.partial(<class 'fastai.basic_train.Recorder'>, add_time=True, silent=False)], callbacks=[RNNTrainer\n",
       "learn: ...\n",
       "alpha: 2.0\n",
       "beta: 1.0], layer_groups=[Sequential(\n",
       "  (0): Embedding(60000, 400, padding_idx=1)\n",
       "  (1): EmbeddingDropout(\n",
       "    (emb): Embedding(60000, 400, padding_idx=1)\n",
       "  )\n",
       "), Sequential(\n",
       "  (0): WeightDropout(\n",
       "    (module): LSTM(400, 1152, batch_first=True)\n",
       "  )\n",
       "  (1): RNNDropout()\n",
       "), Sequential(\n",
       "  (0): WeightDropout(\n",
       "    (module): LSTM(1152, 1152, batch_first=True)\n",
       "  )\n",
       "  (1): RNNDropout()\n",
       "), Sequential(\n",
       "  (0): WeightDropout(\n",
       "    (module): LSTM(1152, 400, batch_first=True)\n",
       "  )\n",
       "  (1): RNNDropout()\n",
       "), Sequential(\n",
       "  (0): PoolingLinearClassifier(\n",
       "    (layers): Sequential(\n",
       "      (0): BatchNorm1d(1200, eps=1e-05, momentum=0.1, affine=True, track_running_stats=True)\n",
       "      (1): Dropout(p=0.2, inplace=False)\n",
       "      (2): Linear(in_features=1200, out_features=50, bias=True)\n",
       "      (3): ReLU(inplace=True)\n",
       "      (4): BatchNorm1d(50, eps=1e-05, momentum=0.1, affine=True, track_running_stats=True)\n",
       "      (5): Dropout(p=0.1, inplace=False)\n",
       "      (6): Linear(in_features=50, out_features=16, bias=True)\n",
       "    )\n",
       "  )\n",
       ")], add_time=True, silent=False)"
      ]
     },
     "execution_count": 36,
     "metadata": {},
     "output_type": "execute_result"
    }
   ],
   "source": [
    "#create a learner object for our classifier model\n",
    "learn = text_classifier_learner(data_clas, AWD_LSTM, drop_mult=0.5)\n",
    "learn.load_encoder('ft_enc')"
   ]
  },
  {
   "cell_type": "code",
   "execution_count": 37,
   "metadata": {
    "scrolled": true
   },
   "outputs": [
    {
     "data": {
      "text/html": [
       "<table border=\"1\" class=\"dataframe\">\n",
       "  <thead>\n",
       "    <tr style=\"text-align: right;\">\n",
       "      <th>text</th>\n",
       "      <th>target</th>\n",
       "    </tr>\n",
       "  </thead>\n",
       "  <tbody>\n",
       "    <tr>\n",
       "      <td>xxbos xxup mbti : xxmaj subtype : xxmaj compatible xxmaj matches : xxmaj cognitive xxmaj functions : xxmaj global 5 : xxmaj enneagram xxmaj triptype : xxmaj variant : xxmaj archetype : xxmaj xxunk : xxmaj xxunk : / / www.youtube.com / watch?v = xxunk you xxmaj schizo , xxmaj borderline , or xxmaj narcissistic ? i am xxmaj borderline . xxmaj also , i am the xxmaj hermit but</td>\n",
       "      <td>INFP</td>\n",
       "    </tr>\n",
       "    <tr>\n",
       "      <td>xxbos ' i 'm not sure if an xxup istp would have so many metaphors , xxunk and references to history and stories ? ... xxmaj it 's like he takes pleasure to rewrite the classical stories and the well know history ... |||yes - i love his writing as well - very nostalgic as you pointed out , and also he choose his words very carefully . i also</td>\n",
       "      <td>ENTP</td>\n",
       "    </tr>\n",
       "    <tr>\n",
       "      <td>xxbos ' i do n't know if anyone else is a fan of her ( you 've probably heard her music used on all sorts of commercials like xxmaj xxunk and several movies ) , but xxmaj katie xxmaj xxunk ( xxmaj grammy nominated ... |||so glad to see a xxmaj jane xxmaj austen thread up and running ! i 've been contemplating the types for awhile . xxmaj this</td>\n",
       "      <td>INFJ</td>\n",
       "    </tr>\n",
       "    <tr>\n",
       "      <td>xxbos ' i do n't really relate to most of it , to be honest . xxmaj my sensitivity to sound is really , xxup really low , for example : my brother and mother ( both istjs ) complain about sounds all the time , but i tune them ... |||well , now i 'm the one who 's sorry for the late response , but i had to</td>\n",
       "      <td>INFP</td>\n",
       "    </tr>\n",
       "    <tr>\n",
       "      <td>xxbos ' xxmaj ya i 've come to learn that my best friend is actually just waiting for me to calm down instead of not standing up for himself or ignoring me . xxmaj he 'll respond when he knows i 've had time to cool off xxrep 4 . |||ya i actually got the low self esteem thing right away . xxmaj my really close guy friend is an</td>\n",
       "      <td>ESTJ</td>\n",
       "    </tr>\n",
       "  </tbody>\n",
       "</table>"
      ],
      "text/plain": [
       "<IPython.core.display.HTML object>"
      ]
     },
     "metadata": {},
     "output_type": "display_data"
    }
   ],
   "source": [
    "data_clas.show_batch()"
   ]
  },
  {
   "cell_type": "code",
   "execution_count": 38,
   "metadata": {},
   "outputs": [
    {
     "data": {
      "text/html": [
       "<table border=\"1\" class=\"dataframe\">\n",
       "  <thead>\n",
       "    <tr style=\"text-align: left;\">\n",
       "      <th>epoch</th>\n",
       "      <th>train_loss</th>\n",
       "      <th>valid_loss</th>\n",
       "      <th>accuracy</th>\n",
       "      <th>time</th>\n",
       "    </tr>\n",
       "  </thead>\n",
       "  <tbody>\n",
       "    <tr>\n",
       "      <td>0</td>\n",
       "      <td>1.976215</td>\n",
       "      <td>1.877544</td>\n",
       "      <td>0.350806</td>\n",
       "      <td>02:08</td>\n",
       "    </tr>\n",
       "  </tbody>\n",
       "</table>"
      ],
      "text/plain": [
       "<IPython.core.display.HTML object>"
      ]
     },
     "metadata": {},
     "output_type": "display_data"
    }
   ],
   "source": [
    "learn.fit_one_cycle(1, 1e-2)"
   ]
  },
  {
   "cell_type": "code",
   "execution_count": 39,
   "metadata": {},
   "outputs": [
    {
     "data": {
      "text/html": [
       "<table border=\"1\" class=\"dataframe\">\n",
       "  <thead>\n",
       "    <tr style=\"text-align: left;\">\n",
       "      <th>epoch</th>\n",
       "      <th>train_loss</th>\n",
       "      <th>valid_loss</th>\n",
       "      <th>accuracy</th>\n",
       "      <th>time</th>\n",
       "    </tr>\n",
       "  </thead>\n",
       "  <tbody>\n",
       "    <tr>\n",
       "      <td>0</td>\n",
       "      <td>1.804733</td>\n",
       "      <td>1.697172</td>\n",
       "      <td>0.422235</td>\n",
       "      <td>02:41</td>\n",
       "    </tr>\n",
       "  </tbody>\n",
       "</table>"
      ],
      "text/plain": [
       "<IPython.core.display.HTML object>"
      ]
     },
     "metadata": {},
     "output_type": "display_data"
    }
   ],
   "source": [
    "learn.freeze_to(-2)\n",
    "learn.fit_one_cycle(1, slice(5e-3/2., 5e-3))"
   ]
  },
  {
   "cell_type": "code",
   "execution_count": 40,
   "metadata": {},
   "outputs": [
    {
     "data": {
      "text/html": [
       "<table border=\"1\" class=\"dataframe\">\n",
       "  <thead>\n",
       "    <tr style=\"text-align: left;\">\n",
       "      <th>epoch</th>\n",
       "      <th>train_loss</th>\n",
       "      <th>valid_loss</th>\n",
       "      <th>accuracy</th>\n",
       "      <th>time</th>\n",
       "    </tr>\n",
       "  </thead>\n",
       "  <tbody>\n",
       "    <tr>\n",
       "      <td>0</td>\n",
       "      <td>1.472790</td>\n",
       "      <td>1.402793</td>\n",
       "      <td>0.556452</td>\n",
       "      <td>04:05</td>\n",
       "    </tr>\n",
       "  </tbody>\n",
       "</table>"
      ],
      "text/plain": [
       "<IPython.core.display.HTML object>"
      ]
     },
     "metadata": {},
     "output_type": "display_data"
    }
   ],
   "source": [
    "learn.unfreeze()\n",
    "learn.fit_one_cycle(1, slice(2e-3/100, 2e-3))"
   ]
  },
  {
   "cell_type": "code",
   "execution_count": 45,
   "metadata": {},
   "outputs": [],
   "source": [
    "learn.export('models/export.pkl')"
   ]
  },
  {
   "cell_type": "code",
   "execution_count": 35,
   "metadata": {},
   "outputs": [
    {
     "name": "stdout",
     "output_type": "stream",
     "text": [
      "this object has been destroyed\n"
     ]
    }
   ],
   "source": [
    "learn.predict('xxbos xxup mbti : xxmaj subtype : xxmaj compatible xxmaj matches : xxmaj cognitive xxmaj functions : xxmaj global 5 : xxmaj enneagram xxmaj triptype : xxmaj variant : xxmaj archetype : xxmaj xxunk : xxmaj xxunk : / / www.youtube.com / watch?v = xxunk you xxmaj schizo , xxmaj borderline , or xxmaj narcissistic ? i am xxmaj borderline . xxmaj also , i am the xxmaj hermit but')"
   ]
  },
  {
   "cell_type": "code",
   "execution_count": null,
   "metadata": {},
   "outputs": [],
   "source": []
  }
 ],
 "metadata": {
  "kernelspec": {
   "display_name": "Python 3",
   "language": "python",
   "name": "python3"
  },
  "language_info": {
   "codemirror_mode": {
    "name": "ipython",
    "version": 3
   },
   "file_extension": ".py",
   "mimetype": "text/x-python",
   "name": "python",
   "nbconvert_exporter": "python",
   "pygments_lexer": "ipython3",
   "version": "3.6.4"
  }
 },
 "nbformat": 4,
 "nbformat_minor": 2
}
